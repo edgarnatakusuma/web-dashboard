{
 "cells": [
  {
   "cell_type": "code",
   "execution_count": 1,
   "id": "ef173a13",
   "metadata": {},
   "outputs": [],
   "source": [
    "import pandas as pd\n",
    "import plotly.express as px"
   ]
  },
  {
   "cell_type": "code",
   "execution_count": 2,
   "id": "cacbf5b3",
   "metadata": {},
   "outputs": [
    {
     "data": {
      "text/html": [
       "<div>\n",
       "<style scoped>\n",
       "    .dataframe tbody tr th:only-of-type {\n",
       "        vertical-align: middle;\n",
       "    }\n",
       "\n",
       "    .dataframe tbody tr th {\n",
       "        vertical-align: top;\n",
       "    }\n",
       "\n",
       "    .dataframe thead th {\n",
       "        text-align: right;\n",
       "    }\n",
       "</style>\n",
       "<table border=\"1\" class=\"dataframe\">\n",
       "  <thead>\n",
       "    <tr style=\"text-align: right;\">\n",
       "      <th></th>\n",
       "      <th>company</th>\n",
       "      <th>location</th>\n",
       "      <th>industry</th>\n",
       "      <th>total_laid_off</th>\n",
       "      <th>percentage_laid_off</th>\n",
       "      <th>date</th>\n",
       "      <th>stage</th>\n",
       "      <th>country</th>\n",
       "      <th>funds_raised</th>\n",
       "    </tr>\n",
       "  </thead>\n",
       "  <tbody>\n",
       "    <tr>\n",
       "      <th>0</th>\n",
       "      <td>ResearchGate</td>\n",
       "      <td>Berlin</td>\n",
       "      <td>Other</td>\n",
       "      <td>25</td>\n",
       "      <td>0.10</td>\n",
       "      <td>11/28/2022</td>\n",
       "      <td>Series D</td>\n",
       "      <td>Germany</td>\n",
       "      <td>87.0</td>\n",
       "    </tr>\n",
       "    <tr>\n",
       "      <th>1</th>\n",
       "      <td>VerSe Innovation</td>\n",
       "      <td>Bengaluru</td>\n",
       "      <td>Media</td>\n",
       "      <td>150</td>\n",
       "      <td>0.05</td>\n",
       "      <td>11/25/2022</td>\n",
       "      <td>Series J</td>\n",
       "      <td>India</td>\n",
       "      <td>1700.0</td>\n",
       "    </tr>\n",
       "    <tr>\n",
       "      <th>2</th>\n",
       "      <td>Lemon</td>\n",
       "      <td>Buenos Aires</td>\n",
       "      <td>Crypto</td>\n",
       "      <td>100</td>\n",
       "      <td>0.38</td>\n",
       "      <td>11/24/2022</td>\n",
       "      <td>Series A</td>\n",
       "      <td>Argentina</td>\n",
       "      <td>17.0</td>\n",
       "    </tr>\n",
       "    <tr>\n",
       "      <th>3</th>\n",
       "      <td>Quidax</td>\n",
       "      <td>Lagos</td>\n",
       "      <td>Crypto</td>\n",
       "      <td>20</td>\n",
       "      <td>0.20</td>\n",
       "      <td>11/24/2022</td>\n",
       "      <td>Unknown</td>\n",
       "      <td>Nigeria</td>\n",
       "      <td>3.0</td>\n",
       "    </tr>\n",
       "    <tr>\n",
       "      <th>4</th>\n",
       "      <td>Menulog</td>\n",
       "      <td>Sydney</td>\n",
       "      <td>Food</td>\n",
       "      <td>0</td>\n",
       "      <td>0.00</td>\n",
       "      <td>11/24/2022</td>\n",
       "      <td>Acquired</td>\n",
       "      <td>Australia</td>\n",
       "      <td>0.0</td>\n",
       "    </tr>\n",
       "  </tbody>\n",
       "</table>\n",
       "</div>"
      ],
      "text/plain": [
       "            company      location industry  total_laid_off  \\\n",
       "0      ResearchGate        Berlin    Other              25   \n",
       "1  VerSe Innovation     Bengaluru    Media             150   \n",
       "2             Lemon  Buenos Aires   Crypto             100   \n",
       "3            Quidax         Lagos   Crypto              20   \n",
       "4           Menulog        Sydney     Food               0   \n",
       "\n",
       "   percentage_laid_off        date     stage    country  funds_raised  \n",
       "0                 0.10  11/28/2022  Series D    Germany          87.0  \n",
       "1                 0.05  11/25/2022  Series J      India        1700.0  \n",
       "2                 0.38  11/24/2022  Series A  Argentina          17.0  \n",
       "3                 0.20  11/24/2022   Unknown    Nigeria           3.0  \n",
       "4                 0.00  11/24/2022  Acquired  Australia           0.0  "
      ]
     },
     "execution_count": 2,
     "metadata": {},
     "output_type": "execute_result"
    }
   ],
   "source": [
    "df = pd.read_csv(r'C:\\Users\\edgar.manzo\\Desktop\\training dadp\\capstone\\data input\\layoffs_1.csv')\n",
    "df.head()"
   ]
  },
  {
   "cell_type": "code",
   "execution_count": 3,
   "id": "4560ec69",
   "metadata": {},
   "outputs": [],
   "source": [
    "def plot_layoffs_over_time(parameter, aggfunc, time_period='M'):\n",
    "    df.date = pd.to_datetime(df.date)\n",
    "    df['period'] = df.date.dt.to_period(time_period)\n",
    "    df.period = df.period.dt.to_timestamp()\n",
    "\n",
    "    # get agg values of parameter by period\n",
    "    grouped = df.groupby(['period']).agg(agg_val = (parameter, aggfunc)).reset_index()\n",
    "    \n",
    "    # plot\n",
    "    time_map = {'M':'Month', 'Q':'Quarter', 'W':'Week', 'Y':'Year'}\n",
    "    func_map = {'sum': 'Total', 'mean':'Average'}\n",
    "    fig = px.area(grouped, x='period', y='agg_val',\n",
    "                  labels = {'value' : parameter},\n",
    "                  title='%s %s by %s' % (func_map[aggfunc], parameter, time_map[time_period]))\n",
    "    return fig"
   ]
  },
  {
   "cell_type": "code",
   "execution_count": 4,
   "id": "52ccdb3a",
   "metadata": {},
   "outputs": [],
   "source": [
    "df['date']= pd.to_datetime(df['date'])\n",
    "df['bulan']= df['date'].dt.to_period('M')\n",
    "df['bulan']= df['bulan'].dt.to_timestamp()"
   ]
  },
  {
   "cell_type": "code",
   "execution_count": 5,
   "id": "43c5852b",
   "metadata": {},
   "outputs": [
    {
     "data": {
      "text/html": [
       "<div>\n",
       "<style scoped>\n",
       "    .dataframe tbody tr th:only-of-type {\n",
       "        vertical-align: middle;\n",
       "    }\n",
       "\n",
       "    .dataframe tbody tr th {\n",
       "        vertical-align: top;\n",
       "    }\n",
       "\n",
       "    .dataframe thead th {\n",
       "        text-align: right;\n",
       "    }\n",
       "</style>\n",
       "<table border=\"1\" class=\"dataframe\">\n",
       "  <thead>\n",
       "    <tr style=\"text-align: right;\">\n",
       "      <th></th>\n",
       "      <th>company</th>\n",
       "      <th>location</th>\n",
       "      <th>industry</th>\n",
       "      <th>total_laid_off</th>\n",
       "      <th>percentage_laid_off</th>\n",
       "      <th>date</th>\n",
       "      <th>stage</th>\n",
       "      <th>country</th>\n",
       "      <th>funds_raised</th>\n",
       "      <th>bulan</th>\n",
       "    </tr>\n",
       "  </thead>\n",
       "  <tbody>\n",
       "    <tr>\n",
       "      <th>0</th>\n",
       "      <td>ResearchGate</td>\n",
       "      <td>Berlin</td>\n",
       "      <td>Other</td>\n",
       "      <td>25</td>\n",
       "      <td>0.10</td>\n",
       "      <td>2022-11-28</td>\n",
       "      <td>Series D</td>\n",
       "      <td>Germany</td>\n",
       "      <td>87.0</td>\n",
       "      <td>2022-11-01</td>\n",
       "    </tr>\n",
       "    <tr>\n",
       "      <th>1</th>\n",
       "      <td>VerSe Innovation</td>\n",
       "      <td>Bengaluru</td>\n",
       "      <td>Media</td>\n",
       "      <td>150</td>\n",
       "      <td>0.05</td>\n",
       "      <td>2022-11-25</td>\n",
       "      <td>Series J</td>\n",
       "      <td>India</td>\n",
       "      <td>1700.0</td>\n",
       "      <td>2022-11-01</td>\n",
       "    </tr>\n",
       "    <tr>\n",
       "      <th>2</th>\n",
       "      <td>Lemon</td>\n",
       "      <td>Buenos Aires</td>\n",
       "      <td>Crypto</td>\n",
       "      <td>100</td>\n",
       "      <td>0.38</td>\n",
       "      <td>2022-11-24</td>\n",
       "      <td>Series A</td>\n",
       "      <td>Argentina</td>\n",
       "      <td>17.0</td>\n",
       "      <td>2022-11-01</td>\n",
       "    </tr>\n",
       "    <tr>\n",
       "      <th>3</th>\n",
       "      <td>Quidax</td>\n",
       "      <td>Lagos</td>\n",
       "      <td>Crypto</td>\n",
       "      <td>20</td>\n",
       "      <td>0.20</td>\n",
       "      <td>2022-11-24</td>\n",
       "      <td>Unknown</td>\n",
       "      <td>Nigeria</td>\n",
       "      <td>3.0</td>\n",
       "      <td>2022-11-01</td>\n",
       "    </tr>\n",
       "    <tr>\n",
       "      <th>4</th>\n",
       "      <td>Menulog</td>\n",
       "      <td>Sydney</td>\n",
       "      <td>Food</td>\n",
       "      <td>0</td>\n",
       "      <td>0.00</td>\n",
       "      <td>2022-11-24</td>\n",
       "      <td>Acquired</td>\n",
       "      <td>Australia</td>\n",
       "      <td>0.0</td>\n",
       "      <td>2022-11-01</td>\n",
       "    </tr>\n",
       "  </tbody>\n",
       "</table>\n",
       "</div>"
      ],
      "text/plain": [
       "            company      location industry  total_laid_off  \\\n",
       "0      ResearchGate        Berlin    Other              25   \n",
       "1  VerSe Innovation     Bengaluru    Media             150   \n",
       "2             Lemon  Buenos Aires   Crypto             100   \n",
       "3            Quidax         Lagos   Crypto              20   \n",
       "4           Menulog        Sydney     Food               0   \n",
       "\n",
       "   percentage_laid_off       date     stage    country  funds_raised  \\\n",
       "0                 0.10 2022-11-28  Series D    Germany          87.0   \n",
       "1                 0.05 2022-11-25  Series J      India        1700.0   \n",
       "2                 0.38 2022-11-24  Series A  Argentina          17.0   \n",
       "3                 0.20 2022-11-24   Unknown    Nigeria           3.0   \n",
       "4                 0.00 2022-11-24  Acquired  Australia           0.0   \n",
       "\n",
       "       bulan  \n",
       "0 2022-11-01  \n",
       "1 2022-11-01  \n",
       "2 2022-11-01  \n",
       "3 2022-11-01  \n",
       "4 2022-11-01  "
      ]
     },
     "execution_count": 5,
     "metadata": {},
     "output_type": "execute_result"
    }
   ],
   "source": [
    "df.head()"
   ]
  },
  {
   "cell_type": "code",
   "execution_count": 8,
   "id": "4d885afd",
   "metadata": {},
   "outputs": [
    {
     "data": {
      "application/vnd.plotly.v1+json": {
       "config": {
        "plotlyServerURL": "https://plot.ly"
       },
       "data": [
        {
         "hovertemplate": "Month=%{x}<br>Number of people laid off=%{y}<extra></extra>",
         "legendgroup": "",
         "line": {
          "color": "#F8766D"
         },
         "marker": {
          "symbol": "circle"
         },
         "mode": "lines",
         "name": "",
         "orientation": "v",
         "showlegend": false,
         "stackgroup": "1",
         "type": "scatter",
         "x": [
          "2020-03-01T00:00:00",
          "2020-04-01T00:00:00",
          "2020-05-01T00:00:00",
          "2020-06-01T00:00:00",
          "2020-07-01T00:00:00",
          "2020-08-01T00:00:00",
          "2020-09-01T00:00:00",
          "2020-10-01T00:00:00",
          "2020-11-01T00:00:00",
          "2020-12-01T00:00:00",
          "2021-01-01T00:00:00",
          "2021-02-01T00:00:00",
          "2021-03-01T00:00:00",
          "2021-04-01T00:00:00",
          "2021-05-01T00:00:00",
          "2021-06-01T00:00:00",
          "2021-07-01T00:00:00",
          "2021-08-01T00:00:00",
          "2021-09-01T00:00:00",
          "2021-10-01T00:00:00",
          "2021-11-01T00:00:00",
          "2021-12-01T00:00:00",
          "2022-01-01T00:00:00",
          "2022-02-01T00:00:00",
          "2022-03-01T00:00:00",
          "2022-04-01T00:00:00",
          "2022-05-01T00:00:00",
          "2022-06-01T00:00:00",
          "2022-07-01T00:00:00",
          "2022-08-01T00:00:00",
          "2022-09-01T00:00:00",
          "2022-10-01T00:00:00",
          "2022-11-01T00:00:00"
         ],
         "xaxis": "x",
         "y": [
          9628,
          26710,
          25804,
          7627,
          7112,
          1969,
          609,
          450,
          207,
          852,
          6013,
          868,
          47,
          261,
          0,
          2434,
          80,
          1867,
          161,
          22,
          2070,
          1200,
          510,
          3625,
          5694,
          4064,
          12535,
          17584,
          16223,
          13095,
          6067,
          12683,
          46463
         ],
         "yaxis": "y"
        }
       ],
       "layout": {
        "legend": {
         "tracegroupgap": 0
        },
        "template": {
         "data": {
          "bar": [
           {
            "error_x": {
             "color": "rgb(51,51,51)"
            },
            "error_y": {
             "color": "rgb(51,51,51)"
            },
            "marker": {
             "line": {
              "color": "rgb(237,237,237)",
              "width": 0.5
             },
             "pattern": {
              "fillmode": "overlay",
              "size": 10,
              "solidity": 0.2
             }
            },
            "type": "bar"
           }
          ],
          "barpolar": [
           {
            "marker": {
             "line": {
              "color": "rgb(237,237,237)",
              "width": 0.5
             },
             "pattern": {
              "fillmode": "overlay",
              "size": 10,
              "solidity": 0.2
             }
            },
            "type": "barpolar"
           }
          ],
          "carpet": [
           {
            "aaxis": {
             "endlinecolor": "rgb(51,51,51)",
             "gridcolor": "white",
             "linecolor": "white",
             "minorgridcolor": "white",
             "startlinecolor": "rgb(51,51,51)"
            },
            "baxis": {
             "endlinecolor": "rgb(51,51,51)",
             "gridcolor": "white",
             "linecolor": "white",
             "minorgridcolor": "white",
             "startlinecolor": "rgb(51,51,51)"
            },
            "type": "carpet"
           }
          ],
          "choropleth": [
           {
            "colorbar": {
             "outlinewidth": 0,
             "tickcolor": "rgb(237,237,237)",
             "ticklen": 6,
             "ticks": "inside"
            },
            "type": "choropleth"
           }
          ],
          "contour": [
           {
            "colorbar": {
             "outlinewidth": 0,
             "tickcolor": "rgb(237,237,237)",
             "ticklen": 6,
             "ticks": "inside"
            },
            "colorscale": [
             [
              0,
              "rgb(20,44,66)"
             ],
             [
              1,
              "rgb(90,179,244)"
             ]
            ],
            "type": "contour"
           }
          ],
          "contourcarpet": [
           {
            "colorbar": {
             "outlinewidth": 0,
             "tickcolor": "rgb(237,237,237)",
             "ticklen": 6,
             "ticks": "inside"
            },
            "type": "contourcarpet"
           }
          ],
          "heatmap": [
           {
            "colorbar": {
             "outlinewidth": 0,
             "tickcolor": "rgb(237,237,237)",
             "ticklen": 6,
             "ticks": "inside"
            },
            "colorscale": [
             [
              0,
              "rgb(20,44,66)"
             ],
             [
              1,
              "rgb(90,179,244)"
             ]
            ],
            "type": "heatmap"
           }
          ],
          "heatmapgl": [
           {
            "colorbar": {
             "outlinewidth": 0,
             "tickcolor": "rgb(237,237,237)",
             "ticklen": 6,
             "ticks": "inside"
            },
            "colorscale": [
             [
              0,
              "rgb(20,44,66)"
             ],
             [
              1,
              "rgb(90,179,244)"
             ]
            ],
            "type": "heatmapgl"
           }
          ],
          "histogram": [
           {
            "marker": {
             "pattern": {
              "fillmode": "overlay",
              "size": 10,
              "solidity": 0.2
             }
            },
            "type": "histogram"
           }
          ],
          "histogram2d": [
           {
            "colorbar": {
             "outlinewidth": 0,
             "tickcolor": "rgb(237,237,237)",
             "ticklen": 6,
             "ticks": "inside"
            },
            "colorscale": [
             [
              0,
              "rgb(20,44,66)"
             ],
             [
              1,
              "rgb(90,179,244)"
             ]
            ],
            "type": "histogram2d"
           }
          ],
          "histogram2dcontour": [
           {
            "colorbar": {
             "outlinewidth": 0,
             "tickcolor": "rgb(237,237,237)",
             "ticklen": 6,
             "ticks": "inside"
            },
            "colorscale": [
             [
              0,
              "rgb(20,44,66)"
             ],
             [
              1,
              "rgb(90,179,244)"
             ]
            ],
            "type": "histogram2dcontour"
           }
          ],
          "mesh3d": [
           {
            "colorbar": {
             "outlinewidth": 0,
             "tickcolor": "rgb(237,237,237)",
             "ticklen": 6,
             "ticks": "inside"
            },
            "type": "mesh3d"
           }
          ],
          "parcoords": [
           {
            "line": {
             "colorbar": {
              "outlinewidth": 0,
              "tickcolor": "rgb(237,237,237)",
              "ticklen": 6,
              "ticks": "inside"
             }
            },
            "type": "parcoords"
           }
          ],
          "pie": [
           {
            "automargin": true,
            "type": "pie"
           }
          ],
          "scatter": [
           {
            "marker": {
             "colorbar": {
              "outlinewidth": 0,
              "tickcolor": "rgb(237,237,237)",
              "ticklen": 6,
              "ticks": "inside"
             }
            },
            "type": "scatter"
           }
          ],
          "scatter3d": [
           {
            "line": {
             "colorbar": {
              "outlinewidth": 0,
              "tickcolor": "rgb(237,237,237)",
              "ticklen": 6,
              "ticks": "inside"
             }
            },
            "marker": {
             "colorbar": {
              "outlinewidth": 0,
              "tickcolor": "rgb(237,237,237)",
              "ticklen": 6,
              "ticks": "inside"
             }
            },
            "type": "scatter3d"
           }
          ],
          "scattercarpet": [
           {
            "marker": {
             "colorbar": {
              "outlinewidth": 0,
              "tickcolor": "rgb(237,237,237)",
              "ticklen": 6,
              "ticks": "inside"
             }
            },
            "type": "scattercarpet"
           }
          ],
          "scattergeo": [
           {
            "marker": {
             "colorbar": {
              "outlinewidth": 0,
              "tickcolor": "rgb(237,237,237)",
              "ticklen": 6,
              "ticks": "inside"
             }
            },
            "type": "scattergeo"
           }
          ],
          "scattergl": [
           {
            "marker": {
             "colorbar": {
              "outlinewidth": 0,
              "tickcolor": "rgb(237,237,237)",
              "ticklen": 6,
              "ticks": "inside"
             }
            },
            "type": "scattergl"
           }
          ],
          "scattermapbox": [
           {
            "marker": {
             "colorbar": {
              "outlinewidth": 0,
              "tickcolor": "rgb(237,237,237)",
              "ticklen": 6,
              "ticks": "inside"
             }
            },
            "type": "scattermapbox"
           }
          ],
          "scatterpolar": [
           {
            "marker": {
             "colorbar": {
              "outlinewidth": 0,
              "tickcolor": "rgb(237,237,237)",
              "ticklen": 6,
              "ticks": "inside"
             }
            },
            "type": "scatterpolar"
           }
          ],
          "scatterpolargl": [
           {
            "marker": {
             "colorbar": {
              "outlinewidth": 0,
              "tickcolor": "rgb(237,237,237)",
              "ticklen": 6,
              "ticks": "inside"
             }
            },
            "type": "scatterpolargl"
           }
          ],
          "scatterternary": [
           {
            "marker": {
             "colorbar": {
              "outlinewidth": 0,
              "tickcolor": "rgb(237,237,237)",
              "ticklen": 6,
              "ticks": "inside"
             }
            },
            "type": "scatterternary"
           }
          ],
          "surface": [
           {
            "colorbar": {
             "outlinewidth": 0,
             "tickcolor": "rgb(237,237,237)",
             "ticklen": 6,
             "ticks": "inside"
            },
            "colorscale": [
             [
              0,
              "rgb(20,44,66)"
             ],
             [
              1,
              "rgb(90,179,244)"
             ]
            ],
            "type": "surface"
           }
          ],
          "table": [
           {
            "cells": {
             "fill": {
              "color": "rgb(237,237,237)"
             },
             "line": {
              "color": "white"
             }
            },
            "header": {
             "fill": {
              "color": "rgb(217,217,217)"
             },
             "line": {
              "color": "white"
             }
            },
            "type": "table"
           }
          ]
         },
         "layout": {
          "annotationdefaults": {
           "arrowhead": 0,
           "arrowwidth": 1
          },
          "autotypenumbers": "strict",
          "coloraxis": {
           "colorbar": {
            "outlinewidth": 0,
            "tickcolor": "rgb(237,237,237)",
            "ticklen": 6,
            "ticks": "inside"
           }
          },
          "colorscale": {
           "sequential": [
            [
             0,
             "rgb(20,44,66)"
            ],
            [
             1,
             "rgb(90,179,244)"
            ]
           ],
           "sequentialminus": [
            [
             0,
             "rgb(20,44,66)"
            ],
            [
             1,
             "rgb(90,179,244)"
            ]
           ]
          },
          "colorway": [
           "#F8766D",
           "#A3A500",
           "#00BF7D",
           "#00B0F6",
           "#E76BF3"
          ],
          "font": {
           "color": "rgb(51,51,51)"
          },
          "geo": {
           "bgcolor": "white",
           "lakecolor": "white",
           "landcolor": "rgb(237,237,237)",
           "showlakes": true,
           "showland": true,
           "subunitcolor": "white"
          },
          "hoverlabel": {
           "align": "left"
          },
          "hovermode": "closest",
          "paper_bgcolor": "white",
          "plot_bgcolor": "rgb(237,237,237)",
          "polar": {
           "angularaxis": {
            "gridcolor": "white",
            "linecolor": "white",
            "showgrid": true,
            "tickcolor": "rgb(51,51,51)",
            "ticks": "outside"
           },
           "bgcolor": "rgb(237,237,237)",
           "radialaxis": {
            "gridcolor": "white",
            "linecolor": "white",
            "showgrid": true,
            "tickcolor": "rgb(51,51,51)",
            "ticks": "outside"
           }
          },
          "scene": {
           "xaxis": {
            "backgroundcolor": "rgb(237,237,237)",
            "gridcolor": "white",
            "gridwidth": 2,
            "linecolor": "white",
            "showbackground": true,
            "showgrid": true,
            "tickcolor": "rgb(51,51,51)",
            "ticks": "outside",
            "zerolinecolor": "white"
           },
           "yaxis": {
            "backgroundcolor": "rgb(237,237,237)",
            "gridcolor": "white",
            "gridwidth": 2,
            "linecolor": "white",
            "showbackground": true,
            "showgrid": true,
            "tickcolor": "rgb(51,51,51)",
            "ticks": "outside",
            "zerolinecolor": "white"
           },
           "zaxis": {
            "backgroundcolor": "rgb(237,237,237)",
            "gridcolor": "white",
            "gridwidth": 2,
            "linecolor": "white",
            "showbackground": true,
            "showgrid": true,
            "tickcolor": "rgb(51,51,51)",
            "ticks": "outside",
            "zerolinecolor": "white"
           }
          },
          "shapedefaults": {
           "fillcolor": "black",
           "line": {
            "width": 0
           },
           "opacity": 0.3
          },
          "ternary": {
           "aaxis": {
            "gridcolor": "white",
            "linecolor": "white",
            "showgrid": true,
            "tickcolor": "rgb(51,51,51)",
            "ticks": "outside"
           },
           "baxis": {
            "gridcolor": "white",
            "linecolor": "white",
            "showgrid": true,
            "tickcolor": "rgb(51,51,51)",
            "ticks": "outside"
           },
           "bgcolor": "rgb(237,237,237)",
           "caxis": {
            "gridcolor": "white",
            "linecolor": "white",
            "showgrid": true,
            "tickcolor": "rgb(51,51,51)",
            "ticks": "outside"
           }
          },
          "xaxis": {
           "automargin": true,
           "gridcolor": "white",
           "linecolor": "white",
           "showgrid": true,
           "tickcolor": "rgb(51,51,51)",
           "ticks": "outside",
           "title": {
            "standoff": 15
           },
           "zerolinecolor": "white"
          },
          "yaxis": {
           "automargin": true,
           "gridcolor": "white",
           "linecolor": "white",
           "showgrid": true,
           "tickcolor": "rgb(51,51,51)",
           "ticks": "outside",
           "title": {
            "standoff": 15
           },
           "zerolinecolor": "white"
          }
         }
        },
        "title": {
         "text": "Number of People Laid Off in Months"
        },
        "xaxis": {
         "anchor": "y",
         "domain": [
          0,
          1
         ],
         "title": {
          "text": "Month"
         }
        },
        "yaxis": {
         "anchor": "x",
         "domain": [
          0,
          1
         ],
         "title": {
          "text": "Number of people laid off"
         }
        }
       }
      }
     },
     "metadata": {},
     "output_type": "display_data"
    }
   ],
   "source": [
    "#Area Plot\n",
    "group = pd.pivot_table(df, index='bulan', values='total_laid_off', aggfunc='sum').reset_index()\n",
    "\n",
    "area_plot = px.area(group, \n",
    "        x='bulan', \n",
    "        y='total_laid_off', \n",
    "        labels= {'bulan': 'Month', 'total_laid_off':'Number of people laid off'},\n",
    "       template= 'ggplot2',\n",
    "       title='Number of People Laid Off in Months')\n"
   ]
  },
  {
   "cell_type": "code",
   "execution_count": 7,
   "id": "9a6fd1b9",
   "metadata": {},
   "outputs": [
    {
     "data": {
      "application/vnd.plotly.v1+json": {
       "config": {
        "plotlyServerURL": "https://plot.ly"
       },
       "data": [
        {
         "domain": {
          "x": [
           0,
           1
          ],
          "y": [
           0,
           1
          ]
         },
         "hoverinfo": "label+percent",
         "hovertemplate": "company=%{label}<br>total_laid_off=%{value}<extra></extra>",
         "labels": [
          "Twitter",
          "Bytedance",
          "Better.com",
          "Carvana",
          "Peloton",
          "Cisco",
          "Booking.com",
          "Uber",
          "Amazon",
          "Meta"
         ],
         "legendgroup": "",
         "name": "",
         "showlegend": true,
         "textinfo": "value",
         "type": "pie",
         "values": [
          3700,
          3750,
          3900,
          4000,
          4084,
          4100,
          4601,
          7585,
          10000,
          11000
         ]
        }
       ],
       "layout": {
        "legend": {
         "tracegroupgap": 0
        },
        "template": {
         "data": {
          "bar": [
           {
            "error_x": {
             "color": "rgb(51,51,51)"
            },
            "error_y": {
             "color": "rgb(51,51,51)"
            },
            "marker": {
             "line": {
              "color": "rgb(237,237,237)",
              "width": 0.5
             },
             "pattern": {
              "fillmode": "overlay",
              "size": 10,
              "solidity": 0.2
             }
            },
            "type": "bar"
           }
          ],
          "barpolar": [
           {
            "marker": {
             "line": {
              "color": "rgb(237,237,237)",
              "width": 0.5
             },
             "pattern": {
              "fillmode": "overlay",
              "size": 10,
              "solidity": 0.2
             }
            },
            "type": "barpolar"
           }
          ],
          "carpet": [
           {
            "aaxis": {
             "endlinecolor": "rgb(51,51,51)",
             "gridcolor": "white",
             "linecolor": "white",
             "minorgridcolor": "white",
             "startlinecolor": "rgb(51,51,51)"
            },
            "baxis": {
             "endlinecolor": "rgb(51,51,51)",
             "gridcolor": "white",
             "linecolor": "white",
             "minorgridcolor": "white",
             "startlinecolor": "rgb(51,51,51)"
            },
            "type": "carpet"
           }
          ],
          "choropleth": [
           {
            "colorbar": {
             "outlinewidth": 0,
             "tickcolor": "rgb(237,237,237)",
             "ticklen": 6,
             "ticks": "inside"
            },
            "type": "choropleth"
           }
          ],
          "contour": [
           {
            "colorbar": {
             "outlinewidth": 0,
             "tickcolor": "rgb(237,237,237)",
             "ticklen": 6,
             "ticks": "inside"
            },
            "colorscale": [
             [
              0,
              "rgb(20,44,66)"
             ],
             [
              1,
              "rgb(90,179,244)"
             ]
            ],
            "type": "contour"
           }
          ],
          "contourcarpet": [
           {
            "colorbar": {
             "outlinewidth": 0,
             "tickcolor": "rgb(237,237,237)",
             "ticklen": 6,
             "ticks": "inside"
            },
            "type": "contourcarpet"
           }
          ],
          "heatmap": [
           {
            "colorbar": {
             "outlinewidth": 0,
             "tickcolor": "rgb(237,237,237)",
             "ticklen": 6,
             "ticks": "inside"
            },
            "colorscale": [
             [
              0,
              "rgb(20,44,66)"
             ],
             [
              1,
              "rgb(90,179,244)"
             ]
            ],
            "type": "heatmap"
           }
          ],
          "heatmapgl": [
           {
            "colorbar": {
             "outlinewidth": 0,
             "tickcolor": "rgb(237,237,237)",
             "ticklen": 6,
             "ticks": "inside"
            },
            "colorscale": [
             [
              0,
              "rgb(20,44,66)"
             ],
             [
              1,
              "rgb(90,179,244)"
             ]
            ],
            "type": "heatmapgl"
           }
          ],
          "histogram": [
           {
            "marker": {
             "pattern": {
              "fillmode": "overlay",
              "size": 10,
              "solidity": 0.2
             }
            },
            "type": "histogram"
           }
          ],
          "histogram2d": [
           {
            "colorbar": {
             "outlinewidth": 0,
             "tickcolor": "rgb(237,237,237)",
             "ticklen": 6,
             "ticks": "inside"
            },
            "colorscale": [
             [
              0,
              "rgb(20,44,66)"
             ],
             [
              1,
              "rgb(90,179,244)"
             ]
            ],
            "type": "histogram2d"
           }
          ],
          "histogram2dcontour": [
           {
            "colorbar": {
             "outlinewidth": 0,
             "tickcolor": "rgb(237,237,237)",
             "ticklen": 6,
             "ticks": "inside"
            },
            "colorscale": [
             [
              0,
              "rgb(20,44,66)"
             ],
             [
              1,
              "rgb(90,179,244)"
             ]
            ],
            "type": "histogram2dcontour"
           }
          ],
          "mesh3d": [
           {
            "colorbar": {
             "outlinewidth": 0,
             "tickcolor": "rgb(237,237,237)",
             "ticklen": 6,
             "ticks": "inside"
            },
            "type": "mesh3d"
           }
          ],
          "parcoords": [
           {
            "line": {
             "colorbar": {
              "outlinewidth": 0,
              "tickcolor": "rgb(237,237,237)",
              "ticklen": 6,
              "ticks": "inside"
             }
            },
            "type": "parcoords"
           }
          ],
          "pie": [
           {
            "automargin": true,
            "type": "pie"
           }
          ],
          "scatter": [
           {
            "marker": {
             "colorbar": {
              "outlinewidth": 0,
              "tickcolor": "rgb(237,237,237)",
              "ticklen": 6,
              "ticks": "inside"
             }
            },
            "type": "scatter"
           }
          ],
          "scatter3d": [
           {
            "line": {
             "colorbar": {
              "outlinewidth": 0,
              "tickcolor": "rgb(237,237,237)",
              "ticklen": 6,
              "ticks": "inside"
             }
            },
            "marker": {
             "colorbar": {
              "outlinewidth": 0,
              "tickcolor": "rgb(237,237,237)",
              "ticklen": 6,
              "ticks": "inside"
             }
            },
            "type": "scatter3d"
           }
          ],
          "scattercarpet": [
           {
            "marker": {
             "colorbar": {
              "outlinewidth": 0,
              "tickcolor": "rgb(237,237,237)",
              "ticklen": 6,
              "ticks": "inside"
             }
            },
            "type": "scattercarpet"
           }
          ],
          "scattergeo": [
           {
            "marker": {
             "colorbar": {
              "outlinewidth": 0,
              "tickcolor": "rgb(237,237,237)",
              "ticklen": 6,
              "ticks": "inside"
             }
            },
            "type": "scattergeo"
           }
          ],
          "scattergl": [
           {
            "marker": {
             "colorbar": {
              "outlinewidth": 0,
              "tickcolor": "rgb(237,237,237)",
              "ticklen": 6,
              "ticks": "inside"
             }
            },
            "type": "scattergl"
           }
          ],
          "scattermapbox": [
           {
            "marker": {
             "colorbar": {
              "outlinewidth": 0,
              "tickcolor": "rgb(237,237,237)",
              "ticklen": 6,
              "ticks": "inside"
             }
            },
            "type": "scattermapbox"
           }
          ],
          "scatterpolar": [
           {
            "marker": {
             "colorbar": {
              "outlinewidth": 0,
              "tickcolor": "rgb(237,237,237)",
              "ticklen": 6,
              "ticks": "inside"
             }
            },
            "type": "scatterpolar"
           }
          ],
          "scatterpolargl": [
           {
            "marker": {
             "colorbar": {
              "outlinewidth": 0,
              "tickcolor": "rgb(237,237,237)",
              "ticklen": 6,
              "ticks": "inside"
             }
            },
            "type": "scatterpolargl"
           }
          ],
          "scatterternary": [
           {
            "marker": {
             "colorbar": {
              "outlinewidth": 0,
              "tickcolor": "rgb(237,237,237)",
              "ticklen": 6,
              "ticks": "inside"
             }
            },
            "type": "scatterternary"
           }
          ],
          "surface": [
           {
            "colorbar": {
             "outlinewidth": 0,
             "tickcolor": "rgb(237,237,237)",
             "ticklen": 6,
             "ticks": "inside"
            },
            "colorscale": [
             [
              0,
              "rgb(20,44,66)"
             ],
             [
              1,
              "rgb(90,179,244)"
             ]
            ],
            "type": "surface"
           }
          ],
          "table": [
           {
            "cells": {
             "fill": {
              "color": "rgb(237,237,237)"
             },
             "line": {
              "color": "white"
             }
            },
            "header": {
             "fill": {
              "color": "rgb(217,217,217)"
             },
             "line": {
              "color": "white"
             }
            },
            "type": "table"
           }
          ]
         },
         "layout": {
          "annotationdefaults": {
           "arrowhead": 0,
           "arrowwidth": 1
          },
          "autotypenumbers": "strict",
          "coloraxis": {
           "colorbar": {
            "outlinewidth": 0,
            "tickcolor": "rgb(237,237,237)",
            "ticklen": 6,
            "ticks": "inside"
           }
          },
          "colorscale": {
           "sequential": [
            [
             0,
             "rgb(20,44,66)"
            ],
            [
             1,
             "rgb(90,179,244)"
            ]
           ],
           "sequentialminus": [
            [
             0,
             "rgb(20,44,66)"
            ],
            [
             1,
             "rgb(90,179,244)"
            ]
           ]
          },
          "colorway": [
           "#F8766D",
           "#A3A500",
           "#00BF7D",
           "#00B0F6",
           "#E76BF3"
          ],
          "font": {
           "color": "rgb(51,51,51)"
          },
          "geo": {
           "bgcolor": "white",
           "lakecolor": "white",
           "landcolor": "rgb(237,237,237)",
           "showlakes": true,
           "showland": true,
           "subunitcolor": "white"
          },
          "hoverlabel": {
           "align": "left"
          },
          "hovermode": "closest",
          "paper_bgcolor": "white",
          "plot_bgcolor": "rgb(237,237,237)",
          "polar": {
           "angularaxis": {
            "gridcolor": "white",
            "linecolor": "white",
            "showgrid": true,
            "tickcolor": "rgb(51,51,51)",
            "ticks": "outside"
           },
           "bgcolor": "rgb(237,237,237)",
           "radialaxis": {
            "gridcolor": "white",
            "linecolor": "white",
            "showgrid": true,
            "tickcolor": "rgb(51,51,51)",
            "ticks": "outside"
           }
          },
          "scene": {
           "xaxis": {
            "backgroundcolor": "rgb(237,237,237)",
            "gridcolor": "white",
            "gridwidth": 2,
            "linecolor": "white",
            "showbackground": true,
            "showgrid": true,
            "tickcolor": "rgb(51,51,51)",
            "ticks": "outside",
            "zerolinecolor": "white"
           },
           "yaxis": {
            "backgroundcolor": "rgb(237,237,237)",
            "gridcolor": "white",
            "gridwidth": 2,
            "linecolor": "white",
            "showbackground": true,
            "showgrid": true,
            "tickcolor": "rgb(51,51,51)",
            "ticks": "outside",
            "zerolinecolor": "white"
           },
           "zaxis": {
            "backgroundcolor": "rgb(237,237,237)",
            "gridcolor": "white",
            "gridwidth": 2,
            "linecolor": "white",
            "showbackground": true,
            "showgrid": true,
            "tickcolor": "rgb(51,51,51)",
            "ticks": "outside",
            "zerolinecolor": "white"
           }
          },
          "shapedefaults": {
           "fillcolor": "black",
           "line": {
            "width": 0
           },
           "opacity": 0.3
          },
          "ternary": {
           "aaxis": {
            "gridcolor": "white",
            "linecolor": "white",
            "showgrid": true,
            "tickcolor": "rgb(51,51,51)",
            "ticks": "outside"
           },
           "baxis": {
            "gridcolor": "white",
            "linecolor": "white",
            "showgrid": true,
            "tickcolor": "rgb(51,51,51)",
            "ticks": "outside"
           },
           "bgcolor": "rgb(237,237,237)",
           "caxis": {
            "gridcolor": "white",
            "linecolor": "white",
            "showgrid": true,
            "tickcolor": "rgb(51,51,51)",
            "ticks": "outside"
           }
          },
          "xaxis": {
           "automargin": true,
           "gridcolor": "white",
           "linecolor": "white",
           "showgrid": true,
           "tickcolor": "rgb(51,51,51)",
           "ticks": "outside",
           "title": {
            "standoff": 15
           },
           "zerolinecolor": "white"
          },
          "yaxis": {
           "automargin": true,
           "gridcolor": "white",
           "linecolor": "white",
           "showgrid": true,
           "tickcolor": "rgb(51,51,51)",
           "ticks": "outside",
           "title": {
            "standoff": 15
           },
           "zerolinecolor": "white"
          }
         }
        },
        "title": {
         "text": "Top 10 Companies with most layoffs"
        }
       }
      }
     },
     "metadata": {},
     "output_type": "display_data"
    }
   ],
   "source": [
    "\n",
    "\n"
   ]
  },
  {
   "cell_type": "code",
   "execution_count": 64,
   "id": "feaca0a0",
   "metadata": {},
   "outputs": [
    {
     "data": {
      "application/vnd.plotly.v1+json": {
       "config": {
        "plotlyServerURL": "https://plot.ly"
       },
       "data": [
        {
         "domain": {
          "x": [
           0,
           1
          ],
          "y": [
           0,
           1
          ]
         },
         "hovertemplate": "<b>%{value}</b> employees have been laid off from <b>%{label}</b> companies",
         "labels": [
          "Publicly traded",
          "Privately owned"
         ],
         "legendgroup": "",
         "name": "",
         "showlegend": true,
         "textinfo": "label+percent",
         "type": "pie",
         "values": [
          94801,
          139733
         ]
        }
       ],
       "layout": {
        "legend": {
         "tracegroupgap": 0
        },
        "template": {
         "data": {
          "bar": [
           {
            "error_x": {
             "color": "rgb(51,51,51)"
            },
            "error_y": {
             "color": "rgb(51,51,51)"
            },
            "marker": {
             "line": {
              "color": "rgb(237,237,237)",
              "width": 0.5
             },
             "pattern": {
              "fillmode": "overlay",
              "size": 10,
              "solidity": 0.2
             }
            },
            "type": "bar"
           }
          ],
          "barpolar": [
           {
            "marker": {
             "line": {
              "color": "rgb(237,237,237)",
              "width": 0.5
             },
             "pattern": {
              "fillmode": "overlay",
              "size": 10,
              "solidity": 0.2
             }
            },
            "type": "barpolar"
           }
          ],
          "carpet": [
           {
            "aaxis": {
             "endlinecolor": "rgb(51,51,51)",
             "gridcolor": "white",
             "linecolor": "white",
             "minorgridcolor": "white",
             "startlinecolor": "rgb(51,51,51)"
            },
            "baxis": {
             "endlinecolor": "rgb(51,51,51)",
             "gridcolor": "white",
             "linecolor": "white",
             "minorgridcolor": "white",
             "startlinecolor": "rgb(51,51,51)"
            },
            "type": "carpet"
           }
          ],
          "choropleth": [
           {
            "colorbar": {
             "outlinewidth": 0,
             "tickcolor": "rgb(237,237,237)",
             "ticklen": 6,
             "ticks": "inside"
            },
            "type": "choropleth"
           }
          ],
          "contour": [
           {
            "colorbar": {
             "outlinewidth": 0,
             "tickcolor": "rgb(237,237,237)",
             "ticklen": 6,
             "ticks": "inside"
            },
            "colorscale": [
             [
              0,
              "rgb(20,44,66)"
             ],
             [
              1,
              "rgb(90,179,244)"
             ]
            ],
            "type": "contour"
           }
          ],
          "contourcarpet": [
           {
            "colorbar": {
             "outlinewidth": 0,
             "tickcolor": "rgb(237,237,237)",
             "ticklen": 6,
             "ticks": "inside"
            },
            "type": "contourcarpet"
           }
          ],
          "heatmap": [
           {
            "colorbar": {
             "outlinewidth": 0,
             "tickcolor": "rgb(237,237,237)",
             "ticklen": 6,
             "ticks": "inside"
            },
            "colorscale": [
             [
              0,
              "rgb(20,44,66)"
             ],
             [
              1,
              "rgb(90,179,244)"
             ]
            ],
            "type": "heatmap"
           }
          ],
          "heatmapgl": [
           {
            "colorbar": {
             "outlinewidth": 0,
             "tickcolor": "rgb(237,237,237)",
             "ticklen": 6,
             "ticks": "inside"
            },
            "colorscale": [
             [
              0,
              "rgb(20,44,66)"
             ],
             [
              1,
              "rgb(90,179,244)"
             ]
            ],
            "type": "heatmapgl"
           }
          ],
          "histogram": [
           {
            "marker": {
             "pattern": {
              "fillmode": "overlay",
              "size": 10,
              "solidity": 0.2
             }
            },
            "type": "histogram"
           }
          ],
          "histogram2d": [
           {
            "colorbar": {
             "outlinewidth": 0,
             "tickcolor": "rgb(237,237,237)",
             "ticklen": 6,
             "ticks": "inside"
            },
            "colorscale": [
             [
              0,
              "rgb(20,44,66)"
             ],
             [
              1,
              "rgb(90,179,244)"
             ]
            ],
            "type": "histogram2d"
           }
          ],
          "histogram2dcontour": [
           {
            "colorbar": {
             "outlinewidth": 0,
             "tickcolor": "rgb(237,237,237)",
             "ticklen": 6,
             "ticks": "inside"
            },
            "colorscale": [
             [
              0,
              "rgb(20,44,66)"
             ],
             [
              1,
              "rgb(90,179,244)"
             ]
            ],
            "type": "histogram2dcontour"
           }
          ],
          "mesh3d": [
           {
            "colorbar": {
             "outlinewidth": 0,
             "tickcolor": "rgb(237,237,237)",
             "ticklen": 6,
             "ticks": "inside"
            },
            "type": "mesh3d"
           }
          ],
          "parcoords": [
           {
            "line": {
             "colorbar": {
              "outlinewidth": 0,
              "tickcolor": "rgb(237,237,237)",
              "ticklen": 6,
              "ticks": "inside"
             }
            },
            "type": "parcoords"
           }
          ],
          "pie": [
           {
            "automargin": true,
            "type": "pie"
           }
          ],
          "scatter": [
           {
            "marker": {
             "colorbar": {
              "outlinewidth": 0,
              "tickcolor": "rgb(237,237,237)",
              "ticklen": 6,
              "ticks": "inside"
             }
            },
            "type": "scatter"
           }
          ],
          "scatter3d": [
           {
            "line": {
             "colorbar": {
              "outlinewidth": 0,
              "tickcolor": "rgb(237,237,237)",
              "ticklen": 6,
              "ticks": "inside"
             }
            },
            "marker": {
             "colorbar": {
              "outlinewidth": 0,
              "tickcolor": "rgb(237,237,237)",
              "ticklen": 6,
              "ticks": "inside"
             }
            },
            "type": "scatter3d"
           }
          ],
          "scattercarpet": [
           {
            "marker": {
             "colorbar": {
              "outlinewidth": 0,
              "tickcolor": "rgb(237,237,237)",
              "ticklen": 6,
              "ticks": "inside"
             }
            },
            "type": "scattercarpet"
           }
          ],
          "scattergeo": [
           {
            "marker": {
             "colorbar": {
              "outlinewidth": 0,
              "tickcolor": "rgb(237,237,237)",
              "ticklen": 6,
              "ticks": "inside"
             }
            },
            "type": "scattergeo"
           }
          ],
          "scattergl": [
           {
            "marker": {
             "colorbar": {
              "outlinewidth": 0,
              "tickcolor": "rgb(237,237,237)",
              "ticklen": 6,
              "ticks": "inside"
             }
            },
            "type": "scattergl"
           }
          ],
          "scattermapbox": [
           {
            "marker": {
             "colorbar": {
              "outlinewidth": 0,
              "tickcolor": "rgb(237,237,237)",
              "ticklen": 6,
              "ticks": "inside"
             }
            },
            "type": "scattermapbox"
           }
          ],
          "scatterpolar": [
           {
            "marker": {
             "colorbar": {
              "outlinewidth": 0,
              "tickcolor": "rgb(237,237,237)",
              "ticklen": 6,
              "ticks": "inside"
             }
            },
            "type": "scatterpolar"
           }
          ],
          "scatterpolargl": [
           {
            "marker": {
             "colorbar": {
              "outlinewidth": 0,
              "tickcolor": "rgb(237,237,237)",
              "ticklen": 6,
              "ticks": "inside"
             }
            },
            "type": "scatterpolargl"
           }
          ],
          "scatterternary": [
           {
            "marker": {
             "colorbar": {
              "outlinewidth": 0,
              "tickcolor": "rgb(237,237,237)",
              "ticklen": 6,
              "ticks": "inside"
             }
            },
            "type": "scatterternary"
           }
          ],
          "surface": [
           {
            "colorbar": {
             "outlinewidth": 0,
             "tickcolor": "rgb(237,237,237)",
             "ticklen": 6,
             "ticks": "inside"
            },
            "colorscale": [
             [
              0,
              "rgb(20,44,66)"
             ],
             [
              1,
              "rgb(90,179,244)"
             ]
            ],
            "type": "surface"
           }
          ],
          "table": [
           {
            "cells": {
             "fill": {
              "color": "rgb(237,237,237)"
             },
             "line": {
              "color": "white"
             }
            },
            "header": {
             "fill": {
              "color": "rgb(217,217,217)"
             },
             "line": {
              "color": "white"
             }
            },
            "type": "table"
           }
          ]
         },
         "layout": {
          "annotationdefaults": {
           "arrowhead": 0,
           "arrowwidth": 1
          },
          "autotypenumbers": "strict",
          "coloraxis": {
           "colorbar": {
            "outlinewidth": 0,
            "tickcolor": "rgb(237,237,237)",
            "ticklen": 6,
            "ticks": "inside"
           }
          },
          "colorscale": {
           "sequential": [
            [
             0,
             "rgb(20,44,66)"
            ],
            [
             1,
             "rgb(90,179,244)"
            ]
           ],
           "sequentialminus": [
            [
             0,
             "rgb(20,44,66)"
            ],
            [
             1,
             "rgb(90,179,244)"
            ]
           ]
          },
          "colorway": [
           "#F8766D",
           "#A3A500",
           "#00BF7D",
           "#00B0F6",
           "#E76BF3"
          ],
          "font": {
           "color": "rgb(51,51,51)"
          },
          "geo": {
           "bgcolor": "white",
           "lakecolor": "white",
           "landcolor": "rgb(237,237,237)",
           "showlakes": true,
           "showland": true,
           "subunitcolor": "white"
          },
          "hoverlabel": {
           "align": "left"
          },
          "hovermode": "closest",
          "paper_bgcolor": "white",
          "plot_bgcolor": "rgb(237,237,237)",
          "polar": {
           "angularaxis": {
            "gridcolor": "white",
            "linecolor": "white",
            "showgrid": true,
            "tickcolor": "rgb(51,51,51)",
            "ticks": "outside"
           },
           "bgcolor": "rgb(237,237,237)",
           "radialaxis": {
            "gridcolor": "white",
            "linecolor": "white",
            "showgrid": true,
            "tickcolor": "rgb(51,51,51)",
            "ticks": "outside"
           }
          },
          "scene": {
           "xaxis": {
            "backgroundcolor": "rgb(237,237,237)",
            "gridcolor": "white",
            "gridwidth": 2,
            "linecolor": "white",
            "showbackground": true,
            "showgrid": true,
            "tickcolor": "rgb(51,51,51)",
            "ticks": "outside",
            "zerolinecolor": "white"
           },
           "yaxis": {
            "backgroundcolor": "rgb(237,237,237)",
            "gridcolor": "white",
            "gridwidth": 2,
            "linecolor": "white",
            "showbackground": true,
            "showgrid": true,
            "tickcolor": "rgb(51,51,51)",
            "ticks": "outside",
            "zerolinecolor": "white"
           },
           "zaxis": {
            "backgroundcolor": "rgb(237,237,237)",
            "gridcolor": "white",
            "gridwidth": 2,
            "linecolor": "white",
            "showbackground": true,
            "showgrid": true,
            "tickcolor": "rgb(51,51,51)",
            "ticks": "outside",
            "zerolinecolor": "white"
           }
          },
          "shapedefaults": {
           "fillcolor": "black",
           "line": {
            "width": 0
           },
           "opacity": 0.3
          },
          "ternary": {
           "aaxis": {
            "gridcolor": "white",
            "linecolor": "white",
            "showgrid": true,
            "tickcolor": "rgb(51,51,51)",
            "ticks": "outside"
           },
           "baxis": {
            "gridcolor": "white",
            "linecolor": "white",
            "showgrid": true,
            "tickcolor": "rgb(51,51,51)",
            "ticks": "outside"
           },
           "bgcolor": "rgb(237,237,237)",
           "caxis": {
            "gridcolor": "white",
            "linecolor": "white",
            "showgrid": true,
            "tickcolor": "rgb(51,51,51)",
            "ticks": "outside"
           }
          },
          "xaxis": {
           "automargin": true,
           "gridcolor": "white",
           "linecolor": "white",
           "showgrid": true,
           "tickcolor": "rgb(51,51,51)",
           "ticks": "outside",
           "title": {
            "standoff": 15
           },
           "zerolinecolor": "white"
          },
          "yaxis": {
           "automargin": true,
           "gridcolor": "white",
           "linecolor": "white",
           "showgrid": true,
           "tickcolor": "rgb(51,51,51)",
           "ticks": "outside",
           "title": {
            "standoff": 15
           },
           "zerolinecolor": "white"
          }
         }
        },
        "title": {
         "text": "Most layoffs came from Privately owned companies"
        }
       }
      }
     },
     "metadata": {},
     "output_type": "display_data"
    }
   ],
   "source": [
    "df['status'] = ['Publicly traded' if x =='IPO' else 'Privately owned' for x in df['stage']]\n",
    "# Pie plot\n",
    "status = pd.pivot_table(df, \n",
    "                            index='status', \n",
    "                            values='total_laid_off', \n",
    "                            aggfunc='sum').sort_values('total_laid_off',ascending=False).reset_index()\n",
    "fig = px.pie(status.sort_values('total_laid_off', ascending=True), \n",
    "       values='total_laid_off', \n",
    "       names='status',\n",
    "      title=f\"Most layoffs came from {str(status['status'].head(1)[0])} companies\",\n",
    "      template='ggplot2')\n",
    "fig.update_traces(hovertemplate='<b>%{value}</b> employees have been laid off from <b>%{label}</b> companies',\n",
    "textinfo='label+percent')\n",
    "fig.show()"
   ]
  },
  {
   "cell_type": "code",
   "execution_count": 77,
   "id": "aed07ca0",
   "metadata": {},
   "outputs": [
    {
     "data": {
      "application/vnd.plotly.v1+json": {
       "config": {
        "plotlyServerURL": "https://plot.ly"
       },
       "data": [
        {
         "alignmentgroup": "True",
         "hovertemplate": "Number of people laid off=%{x}<br>Industry=%{y}<extra></extra>",
         "legendgroup": "",
         "marker": {
          "color": "#F8766D",
          "pattern": {
           "shape": ""
          }
         },
         "name": "",
         "offsetgroup": "",
         "orientation": "h",
         "showlegend": false,
         "textposition": "auto",
         "type": "bar",
         "x": [
          8538,
          10135,
          11795,
          14876,
          16022,
          17904,
          19533,
          27237,
          28194,
          28575
         ],
         "xaxis": "x",
         "y": [
          "Fitness",
          "Education",
          "Healthcare",
          "Travel",
          "Real Estate",
          "Food",
          "Finance",
          "Retail",
          "Consumer",
          "Transportation"
         ],
         "yaxis": "y"
        }
       ],
       "layout": {
        "barmode": "relative",
        "legend": {
         "tracegroupgap": 0
        },
        "template": {
         "data": {
          "bar": [
           {
            "error_x": {
             "color": "rgb(51,51,51)"
            },
            "error_y": {
             "color": "rgb(51,51,51)"
            },
            "marker": {
             "line": {
              "color": "rgb(237,237,237)",
              "width": 0.5
             },
             "pattern": {
              "fillmode": "overlay",
              "size": 10,
              "solidity": 0.2
             }
            },
            "type": "bar"
           }
          ],
          "barpolar": [
           {
            "marker": {
             "line": {
              "color": "rgb(237,237,237)",
              "width": 0.5
             },
             "pattern": {
              "fillmode": "overlay",
              "size": 10,
              "solidity": 0.2
             }
            },
            "type": "barpolar"
           }
          ],
          "carpet": [
           {
            "aaxis": {
             "endlinecolor": "rgb(51,51,51)",
             "gridcolor": "white",
             "linecolor": "white",
             "minorgridcolor": "white",
             "startlinecolor": "rgb(51,51,51)"
            },
            "baxis": {
             "endlinecolor": "rgb(51,51,51)",
             "gridcolor": "white",
             "linecolor": "white",
             "minorgridcolor": "white",
             "startlinecolor": "rgb(51,51,51)"
            },
            "type": "carpet"
           }
          ],
          "choropleth": [
           {
            "colorbar": {
             "outlinewidth": 0,
             "tickcolor": "rgb(237,237,237)",
             "ticklen": 6,
             "ticks": "inside"
            },
            "type": "choropleth"
           }
          ],
          "contour": [
           {
            "colorbar": {
             "outlinewidth": 0,
             "tickcolor": "rgb(237,237,237)",
             "ticklen": 6,
             "ticks": "inside"
            },
            "colorscale": [
             [
              0,
              "rgb(20,44,66)"
             ],
             [
              1,
              "rgb(90,179,244)"
             ]
            ],
            "type": "contour"
           }
          ],
          "contourcarpet": [
           {
            "colorbar": {
             "outlinewidth": 0,
             "tickcolor": "rgb(237,237,237)",
             "ticklen": 6,
             "ticks": "inside"
            },
            "type": "contourcarpet"
           }
          ],
          "heatmap": [
           {
            "colorbar": {
             "outlinewidth": 0,
             "tickcolor": "rgb(237,237,237)",
             "ticklen": 6,
             "ticks": "inside"
            },
            "colorscale": [
             [
              0,
              "rgb(20,44,66)"
             ],
             [
              1,
              "rgb(90,179,244)"
             ]
            ],
            "type": "heatmap"
           }
          ],
          "heatmapgl": [
           {
            "colorbar": {
             "outlinewidth": 0,
             "tickcolor": "rgb(237,237,237)",
             "ticklen": 6,
             "ticks": "inside"
            },
            "colorscale": [
             [
              0,
              "rgb(20,44,66)"
             ],
             [
              1,
              "rgb(90,179,244)"
             ]
            ],
            "type": "heatmapgl"
           }
          ],
          "histogram": [
           {
            "marker": {
             "pattern": {
              "fillmode": "overlay",
              "size": 10,
              "solidity": 0.2
             }
            },
            "type": "histogram"
           }
          ],
          "histogram2d": [
           {
            "colorbar": {
             "outlinewidth": 0,
             "tickcolor": "rgb(237,237,237)",
             "ticklen": 6,
             "ticks": "inside"
            },
            "colorscale": [
             [
              0,
              "rgb(20,44,66)"
             ],
             [
              1,
              "rgb(90,179,244)"
             ]
            ],
            "type": "histogram2d"
           }
          ],
          "histogram2dcontour": [
           {
            "colorbar": {
             "outlinewidth": 0,
             "tickcolor": "rgb(237,237,237)",
             "ticklen": 6,
             "ticks": "inside"
            },
            "colorscale": [
             [
              0,
              "rgb(20,44,66)"
             ],
             [
              1,
              "rgb(90,179,244)"
             ]
            ],
            "type": "histogram2dcontour"
           }
          ],
          "mesh3d": [
           {
            "colorbar": {
             "outlinewidth": 0,
             "tickcolor": "rgb(237,237,237)",
             "ticklen": 6,
             "ticks": "inside"
            },
            "type": "mesh3d"
           }
          ],
          "parcoords": [
           {
            "line": {
             "colorbar": {
              "outlinewidth": 0,
              "tickcolor": "rgb(237,237,237)",
              "ticklen": 6,
              "ticks": "inside"
             }
            },
            "type": "parcoords"
           }
          ],
          "pie": [
           {
            "automargin": true,
            "type": "pie"
           }
          ],
          "scatter": [
           {
            "marker": {
             "colorbar": {
              "outlinewidth": 0,
              "tickcolor": "rgb(237,237,237)",
              "ticklen": 6,
              "ticks": "inside"
             }
            },
            "type": "scatter"
           }
          ],
          "scatter3d": [
           {
            "line": {
             "colorbar": {
              "outlinewidth": 0,
              "tickcolor": "rgb(237,237,237)",
              "ticklen": 6,
              "ticks": "inside"
             }
            },
            "marker": {
             "colorbar": {
              "outlinewidth": 0,
              "tickcolor": "rgb(237,237,237)",
              "ticklen": 6,
              "ticks": "inside"
             }
            },
            "type": "scatter3d"
           }
          ],
          "scattercarpet": [
           {
            "marker": {
             "colorbar": {
              "outlinewidth": 0,
              "tickcolor": "rgb(237,237,237)",
              "ticklen": 6,
              "ticks": "inside"
             }
            },
            "type": "scattercarpet"
           }
          ],
          "scattergeo": [
           {
            "marker": {
             "colorbar": {
              "outlinewidth": 0,
              "tickcolor": "rgb(237,237,237)",
              "ticklen": 6,
              "ticks": "inside"
             }
            },
            "type": "scattergeo"
           }
          ],
          "scattergl": [
           {
            "marker": {
             "colorbar": {
              "outlinewidth": 0,
              "tickcolor": "rgb(237,237,237)",
              "ticklen": 6,
              "ticks": "inside"
             }
            },
            "type": "scattergl"
           }
          ],
          "scattermapbox": [
           {
            "marker": {
             "colorbar": {
              "outlinewidth": 0,
              "tickcolor": "rgb(237,237,237)",
              "ticklen": 6,
              "ticks": "inside"
             }
            },
            "type": "scattermapbox"
           }
          ],
          "scatterpolar": [
           {
            "marker": {
             "colorbar": {
              "outlinewidth": 0,
              "tickcolor": "rgb(237,237,237)",
              "ticklen": 6,
              "ticks": "inside"
             }
            },
            "type": "scatterpolar"
           }
          ],
          "scatterpolargl": [
           {
            "marker": {
             "colorbar": {
              "outlinewidth": 0,
              "tickcolor": "rgb(237,237,237)",
              "ticklen": 6,
              "ticks": "inside"
             }
            },
            "type": "scatterpolargl"
           }
          ],
          "scatterternary": [
           {
            "marker": {
             "colorbar": {
              "outlinewidth": 0,
              "tickcolor": "rgb(237,237,237)",
              "ticklen": 6,
              "ticks": "inside"
             }
            },
            "type": "scatterternary"
           }
          ],
          "surface": [
           {
            "colorbar": {
             "outlinewidth": 0,
             "tickcolor": "rgb(237,237,237)",
             "ticklen": 6,
             "ticks": "inside"
            },
            "colorscale": [
             [
              0,
              "rgb(20,44,66)"
             ],
             [
              1,
              "rgb(90,179,244)"
             ]
            ],
            "type": "surface"
           }
          ],
          "table": [
           {
            "cells": {
             "fill": {
              "color": "rgb(237,237,237)"
             },
             "line": {
              "color": "white"
             }
            },
            "header": {
             "fill": {
              "color": "rgb(217,217,217)"
             },
             "line": {
              "color": "white"
             }
            },
            "type": "table"
           }
          ]
         },
         "layout": {
          "annotationdefaults": {
           "arrowhead": 0,
           "arrowwidth": 1
          },
          "autotypenumbers": "strict",
          "coloraxis": {
           "colorbar": {
            "outlinewidth": 0,
            "tickcolor": "rgb(237,237,237)",
            "ticklen": 6,
            "ticks": "inside"
           }
          },
          "colorscale": {
           "sequential": [
            [
             0,
             "rgb(20,44,66)"
            ],
            [
             1,
             "rgb(90,179,244)"
            ]
           ],
           "sequentialminus": [
            [
             0,
             "rgb(20,44,66)"
            ],
            [
             1,
             "rgb(90,179,244)"
            ]
           ]
          },
          "colorway": [
           "#F8766D",
           "#A3A500",
           "#00BF7D",
           "#00B0F6",
           "#E76BF3"
          ],
          "font": {
           "color": "rgb(51,51,51)"
          },
          "geo": {
           "bgcolor": "white",
           "lakecolor": "white",
           "landcolor": "rgb(237,237,237)",
           "showlakes": true,
           "showland": true,
           "subunitcolor": "white"
          },
          "hoverlabel": {
           "align": "left"
          },
          "hovermode": "closest",
          "paper_bgcolor": "white",
          "plot_bgcolor": "rgb(237,237,237)",
          "polar": {
           "angularaxis": {
            "gridcolor": "white",
            "linecolor": "white",
            "showgrid": true,
            "tickcolor": "rgb(51,51,51)",
            "ticks": "outside"
           },
           "bgcolor": "rgb(237,237,237)",
           "radialaxis": {
            "gridcolor": "white",
            "linecolor": "white",
            "showgrid": true,
            "tickcolor": "rgb(51,51,51)",
            "ticks": "outside"
           }
          },
          "scene": {
           "xaxis": {
            "backgroundcolor": "rgb(237,237,237)",
            "gridcolor": "white",
            "gridwidth": 2,
            "linecolor": "white",
            "showbackground": true,
            "showgrid": true,
            "tickcolor": "rgb(51,51,51)",
            "ticks": "outside",
            "zerolinecolor": "white"
           },
           "yaxis": {
            "backgroundcolor": "rgb(237,237,237)",
            "gridcolor": "white",
            "gridwidth": 2,
            "linecolor": "white",
            "showbackground": true,
            "showgrid": true,
            "tickcolor": "rgb(51,51,51)",
            "ticks": "outside",
            "zerolinecolor": "white"
           },
           "zaxis": {
            "backgroundcolor": "rgb(237,237,237)",
            "gridcolor": "white",
            "gridwidth": 2,
            "linecolor": "white",
            "showbackground": true,
            "showgrid": true,
            "tickcolor": "rgb(51,51,51)",
            "ticks": "outside",
            "zerolinecolor": "white"
           }
          },
          "shapedefaults": {
           "fillcolor": "black",
           "line": {
            "width": 0
           },
           "opacity": 0.3
          },
          "ternary": {
           "aaxis": {
            "gridcolor": "white",
            "linecolor": "white",
            "showgrid": true,
            "tickcolor": "rgb(51,51,51)",
            "ticks": "outside"
           },
           "baxis": {
            "gridcolor": "white",
            "linecolor": "white",
            "showgrid": true,
            "tickcolor": "rgb(51,51,51)",
            "ticks": "outside"
           },
           "bgcolor": "rgb(237,237,237)",
           "caxis": {
            "gridcolor": "white",
            "linecolor": "white",
            "showgrid": true,
            "tickcolor": "rgb(51,51,51)",
            "ticks": "outside"
           }
          },
          "xaxis": {
           "automargin": true,
           "gridcolor": "white",
           "linecolor": "white",
           "showgrid": true,
           "tickcolor": "rgb(51,51,51)",
           "ticks": "outside",
           "title": {
            "standoff": 15
           },
           "zerolinecolor": "white"
          },
          "yaxis": {
           "automargin": true,
           "gridcolor": "white",
           "linecolor": "white",
           "showgrid": true,
           "tickcolor": "rgb(51,51,51)",
           "ticks": "outside",
           "title": {
            "standoff": 15
           },
           "zerolinecolor": "white"
          }
         }
        },
        "title": {
         "text": "Top 10 Industry with most layoffs"
        },
        "xaxis": {
         "anchor": "y",
         "domain": [
          0,
          1
         ],
         "title": {
          "text": "Number of people laid off"
         }
        },
        "yaxis": {
         "anchor": "x",
         "domain": [
          0,
          1
         ],
         "title": {
          "text": "Industry"
         }
        }
       }
      }
     },
     "metadata": {},
     "output_type": "display_data"
    }
   ],
   "source": [
    "# Bar plot 1\n",
    "\n",
    "industry = pd.pivot_table(df, \n",
    "                            index='industry', \n",
    "                            values='total_laid_off', \n",
    "                            aggfunc='sum').sort_values('total_laid_off',ascending=False).reset_index().head(10)\n",
    "bar_1 = px.bar(industry.sort_values('total_laid_off', ascending=True), \n",
    "       x='total_laid_off', \n",
    "       y='industry',\n",
    "      title='Top 10 Industry with most layoffs',\n",
    "      template='ggplot2',\n",
    "      labels= {'industry': 'Industry', 'total_laid_off':'Number of people laid off'})\n"
   ]
  },
  {
   "cell_type": "code",
   "execution_count": 70,
   "id": "30c7655b",
   "metadata": {},
   "outputs": [
    {
     "data": {
      "application/vnd.plotly.v1+json": {
       "config": {
        "plotlyServerURL": "https://plot.ly"
       },
       "data": [
        {
         "alignmentgroup": "True",
         "hovertemplate": "Number of people laid off=%{x}<br>Company=%{y}<extra></extra>",
         "legendgroup": "",
         "marker": {
          "color": "#F8766D",
          "pattern": {
           "shape": ""
          }
         },
         "name": "",
         "offsetgroup": "",
         "orientation": "h",
         "showlegend": false,
         "textposition": "auto",
         "type": "bar",
         "x": [
          3700,
          3750,
          3900,
          4000,
          4084,
          4100,
          4601,
          7585,
          10000,
          11000
         ],
         "xaxis": "x",
         "y": [
          "Twitter",
          "Bytedance",
          "Better.com",
          "Carvana",
          "Peloton",
          "Cisco",
          "Booking.com",
          "Uber",
          "Amazon",
          "Meta"
         ],
         "yaxis": "y"
        }
       ],
       "layout": {
        "barmode": "relative",
        "legend": {
         "tracegroupgap": 0
        },
        "template": {
         "data": {
          "bar": [
           {
            "error_x": {
             "color": "rgb(51,51,51)"
            },
            "error_y": {
             "color": "rgb(51,51,51)"
            },
            "marker": {
             "line": {
              "color": "rgb(237,237,237)",
              "width": 0.5
             },
             "pattern": {
              "fillmode": "overlay",
              "size": 10,
              "solidity": 0.2
             }
            },
            "type": "bar"
           }
          ],
          "barpolar": [
           {
            "marker": {
             "line": {
              "color": "rgb(237,237,237)",
              "width": 0.5
             },
             "pattern": {
              "fillmode": "overlay",
              "size": 10,
              "solidity": 0.2
             }
            },
            "type": "barpolar"
           }
          ],
          "carpet": [
           {
            "aaxis": {
             "endlinecolor": "rgb(51,51,51)",
             "gridcolor": "white",
             "linecolor": "white",
             "minorgridcolor": "white",
             "startlinecolor": "rgb(51,51,51)"
            },
            "baxis": {
             "endlinecolor": "rgb(51,51,51)",
             "gridcolor": "white",
             "linecolor": "white",
             "minorgridcolor": "white",
             "startlinecolor": "rgb(51,51,51)"
            },
            "type": "carpet"
           }
          ],
          "choropleth": [
           {
            "colorbar": {
             "outlinewidth": 0,
             "tickcolor": "rgb(237,237,237)",
             "ticklen": 6,
             "ticks": "inside"
            },
            "type": "choropleth"
           }
          ],
          "contour": [
           {
            "colorbar": {
             "outlinewidth": 0,
             "tickcolor": "rgb(237,237,237)",
             "ticklen": 6,
             "ticks": "inside"
            },
            "colorscale": [
             [
              0,
              "rgb(20,44,66)"
             ],
             [
              1,
              "rgb(90,179,244)"
             ]
            ],
            "type": "contour"
           }
          ],
          "contourcarpet": [
           {
            "colorbar": {
             "outlinewidth": 0,
             "tickcolor": "rgb(237,237,237)",
             "ticklen": 6,
             "ticks": "inside"
            },
            "type": "contourcarpet"
           }
          ],
          "heatmap": [
           {
            "colorbar": {
             "outlinewidth": 0,
             "tickcolor": "rgb(237,237,237)",
             "ticklen": 6,
             "ticks": "inside"
            },
            "colorscale": [
             [
              0,
              "rgb(20,44,66)"
             ],
             [
              1,
              "rgb(90,179,244)"
             ]
            ],
            "type": "heatmap"
           }
          ],
          "heatmapgl": [
           {
            "colorbar": {
             "outlinewidth": 0,
             "tickcolor": "rgb(237,237,237)",
             "ticklen": 6,
             "ticks": "inside"
            },
            "colorscale": [
             [
              0,
              "rgb(20,44,66)"
             ],
             [
              1,
              "rgb(90,179,244)"
             ]
            ],
            "type": "heatmapgl"
           }
          ],
          "histogram": [
           {
            "marker": {
             "pattern": {
              "fillmode": "overlay",
              "size": 10,
              "solidity": 0.2
             }
            },
            "type": "histogram"
           }
          ],
          "histogram2d": [
           {
            "colorbar": {
             "outlinewidth": 0,
             "tickcolor": "rgb(237,237,237)",
             "ticklen": 6,
             "ticks": "inside"
            },
            "colorscale": [
             [
              0,
              "rgb(20,44,66)"
             ],
             [
              1,
              "rgb(90,179,244)"
             ]
            ],
            "type": "histogram2d"
           }
          ],
          "histogram2dcontour": [
           {
            "colorbar": {
             "outlinewidth": 0,
             "tickcolor": "rgb(237,237,237)",
             "ticklen": 6,
             "ticks": "inside"
            },
            "colorscale": [
             [
              0,
              "rgb(20,44,66)"
             ],
             [
              1,
              "rgb(90,179,244)"
             ]
            ],
            "type": "histogram2dcontour"
           }
          ],
          "mesh3d": [
           {
            "colorbar": {
             "outlinewidth": 0,
             "tickcolor": "rgb(237,237,237)",
             "ticklen": 6,
             "ticks": "inside"
            },
            "type": "mesh3d"
           }
          ],
          "parcoords": [
           {
            "line": {
             "colorbar": {
              "outlinewidth": 0,
              "tickcolor": "rgb(237,237,237)",
              "ticklen": 6,
              "ticks": "inside"
             }
            },
            "type": "parcoords"
           }
          ],
          "pie": [
           {
            "automargin": true,
            "type": "pie"
           }
          ],
          "scatter": [
           {
            "marker": {
             "colorbar": {
              "outlinewidth": 0,
              "tickcolor": "rgb(237,237,237)",
              "ticklen": 6,
              "ticks": "inside"
             }
            },
            "type": "scatter"
           }
          ],
          "scatter3d": [
           {
            "line": {
             "colorbar": {
              "outlinewidth": 0,
              "tickcolor": "rgb(237,237,237)",
              "ticklen": 6,
              "ticks": "inside"
             }
            },
            "marker": {
             "colorbar": {
              "outlinewidth": 0,
              "tickcolor": "rgb(237,237,237)",
              "ticklen": 6,
              "ticks": "inside"
             }
            },
            "type": "scatter3d"
           }
          ],
          "scattercarpet": [
           {
            "marker": {
             "colorbar": {
              "outlinewidth": 0,
              "tickcolor": "rgb(237,237,237)",
              "ticklen": 6,
              "ticks": "inside"
             }
            },
            "type": "scattercarpet"
           }
          ],
          "scattergeo": [
           {
            "marker": {
             "colorbar": {
              "outlinewidth": 0,
              "tickcolor": "rgb(237,237,237)",
              "ticklen": 6,
              "ticks": "inside"
             }
            },
            "type": "scattergeo"
           }
          ],
          "scattergl": [
           {
            "marker": {
             "colorbar": {
              "outlinewidth": 0,
              "tickcolor": "rgb(237,237,237)",
              "ticklen": 6,
              "ticks": "inside"
             }
            },
            "type": "scattergl"
           }
          ],
          "scattermapbox": [
           {
            "marker": {
             "colorbar": {
              "outlinewidth": 0,
              "tickcolor": "rgb(237,237,237)",
              "ticklen": 6,
              "ticks": "inside"
             }
            },
            "type": "scattermapbox"
           }
          ],
          "scatterpolar": [
           {
            "marker": {
             "colorbar": {
              "outlinewidth": 0,
              "tickcolor": "rgb(237,237,237)",
              "ticklen": 6,
              "ticks": "inside"
             }
            },
            "type": "scatterpolar"
           }
          ],
          "scatterpolargl": [
           {
            "marker": {
             "colorbar": {
              "outlinewidth": 0,
              "tickcolor": "rgb(237,237,237)",
              "ticklen": 6,
              "ticks": "inside"
             }
            },
            "type": "scatterpolargl"
           }
          ],
          "scatterternary": [
           {
            "marker": {
             "colorbar": {
              "outlinewidth": 0,
              "tickcolor": "rgb(237,237,237)",
              "ticklen": 6,
              "ticks": "inside"
             }
            },
            "type": "scatterternary"
           }
          ],
          "surface": [
           {
            "colorbar": {
             "outlinewidth": 0,
             "tickcolor": "rgb(237,237,237)",
             "ticklen": 6,
             "ticks": "inside"
            },
            "colorscale": [
             [
              0,
              "rgb(20,44,66)"
             ],
             [
              1,
              "rgb(90,179,244)"
             ]
            ],
            "type": "surface"
           }
          ],
          "table": [
           {
            "cells": {
             "fill": {
              "color": "rgb(237,237,237)"
             },
             "line": {
              "color": "white"
             }
            },
            "header": {
             "fill": {
              "color": "rgb(217,217,217)"
             },
             "line": {
              "color": "white"
             }
            },
            "type": "table"
           }
          ]
         },
         "layout": {
          "annotationdefaults": {
           "arrowhead": 0,
           "arrowwidth": 1
          },
          "autotypenumbers": "strict",
          "coloraxis": {
           "colorbar": {
            "outlinewidth": 0,
            "tickcolor": "rgb(237,237,237)",
            "ticklen": 6,
            "ticks": "inside"
           }
          },
          "colorscale": {
           "sequential": [
            [
             0,
             "rgb(20,44,66)"
            ],
            [
             1,
             "rgb(90,179,244)"
            ]
           ],
           "sequentialminus": [
            [
             0,
             "rgb(20,44,66)"
            ],
            [
             1,
             "rgb(90,179,244)"
            ]
           ]
          },
          "colorway": [
           "#F8766D",
           "#A3A500",
           "#00BF7D",
           "#00B0F6",
           "#E76BF3"
          ],
          "font": {
           "color": "rgb(51,51,51)"
          },
          "geo": {
           "bgcolor": "white",
           "lakecolor": "white",
           "landcolor": "rgb(237,237,237)",
           "showlakes": true,
           "showland": true,
           "subunitcolor": "white"
          },
          "hoverlabel": {
           "align": "left"
          },
          "hovermode": "closest",
          "paper_bgcolor": "white",
          "plot_bgcolor": "rgb(237,237,237)",
          "polar": {
           "angularaxis": {
            "gridcolor": "white",
            "linecolor": "white",
            "showgrid": true,
            "tickcolor": "rgb(51,51,51)",
            "ticks": "outside"
           },
           "bgcolor": "rgb(237,237,237)",
           "radialaxis": {
            "gridcolor": "white",
            "linecolor": "white",
            "showgrid": true,
            "tickcolor": "rgb(51,51,51)",
            "ticks": "outside"
           }
          },
          "scene": {
           "xaxis": {
            "backgroundcolor": "rgb(237,237,237)",
            "gridcolor": "white",
            "gridwidth": 2,
            "linecolor": "white",
            "showbackground": true,
            "showgrid": true,
            "tickcolor": "rgb(51,51,51)",
            "ticks": "outside",
            "zerolinecolor": "white"
           },
           "yaxis": {
            "backgroundcolor": "rgb(237,237,237)",
            "gridcolor": "white",
            "gridwidth": 2,
            "linecolor": "white",
            "showbackground": true,
            "showgrid": true,
            "tickcolor": "rgb(51,51,51)",
            "ticks": "outside",
            "zerolinecolor": "white"
           },
           "zaxis": {
            "backgroundcolor": "rgb(237,237,237)",
            "gridcolor": "white",
            "gridwidth": 2,
            "linecolor": "white",
            "showbackground": true,
            "showgrid": true,
            "tickcolor": "rgb(51,51,51)",
            "ticks": "outside",
            "zerolinecolor": "white"
           }
          },
          "shapedefaults": {
           "fillcolor": "black",
           "line": {
            "width": 0
           },
           "opacity": 0.3
          },
          "ternary": {
           "aaxis": {
            "gridcolor": "white",
            "linecolor": "white",
            "showgrid": true,
            "tickcolor": "rgb(51,51,51)",
            "ticks": "outside"
           },
           "baxis": {
            "gridcolor": "white",
            "linecolor": "white",
            "showgrid": true,
            "tickcolor": "rgb(51,51,51)",
            "ticks": "outside"
           },
           "bgcolor": "rgb(237,237,237)",
           "caxis": {
            "gridcolor": "white",
            "linecolor": "white",
            "showgrid": true,
            "tickcolor": "rgb(51,51,51)",
            "ticks": "outside"
           }
          },
          "xaxis": {
           "automargin": true,
           "gridcolor": "white",
           "linecolor": "white",
           "showgrid": true,
           "tickcolor": "rgb(51,51,51)",
           "ticks": "outside",
           "title": {
            "standoff": 15
           },
           "zerolinecolor": "white"
          },
          "yaxis": {
           "automargin": true,
           "gridcolor": "white",
           "linecolor": "white",
           "showgrid": true,
           "tickcolor": "rgb(51,51,51)",
           "ticks": "outside",
           "title": {
            "standoff": 15
           },
           "zerolinecolor": "white"
          }
         }
        },
        "title": {
         "text": "Top 10 Company with most layoffs"
        },
        "xaxis": {
         "anchor": "y",
         "domain": [
          0,
          1
         ],
         "title": {
          "text": "Number of people laid off"
         }
        },
        "yaxis": {
         "anchor": "x",
         "domain": [
          0,
          1
         ],
         "title": {
          "text": "Company"
         }
        }
       }
      }
     },
     "metadata": {},
     "output_type": "display_data"
    }
   ],
   "source": [
    "#Bar plot 2\n",
    "perusahaan = pd.pivot_table(df, \n",
    "                            index='company', \n",
    "                            values='total_laid_off', \n",
    "                            aggfunc='sum').sort_values('total_laid_off',ascending=False).reset_index().head(10)\n",
    "bar_2 = px.bar(perusahaan.sort_values('total_laid_off', ascending=True), \n",
    "       x='total_laid_off', \n",
    "       y='company',\n",
    "      title='Top 10 Company with most layoffs',\n",
    "      template='ggplot2',\n",
    "      labels= {'company': 'Company', 'total_laid_off':'Number of people laid off'})"
   ]
  },
  {
   "cell_type": "code",
   "execution_count": 63,
   "id": "77cf14ae",
   "metadata": {},
   "outputs": [
    {
     "data": {
      "application/vnd.plotly.v1+json": {
       "config": {
        "plotlyServerURL": "https://plot.ly"
       },
       "data": [
        {
         "customdata": [
          [
           "ResearchGate"
          ],
          [
           "VerSe Innovation"
          ],
          [
           "Lemon"
          ],
          [
           "Quidax"
          ],
          [
           "SIRCLO"
          ],
          [
           "Trax"
          ],
          [
           "Kitopi"
          ],
          [
           "Zomato"
          ],
          [
           "Carvana"
          ],
          [
           "Nuro"
          ],
          [
           "Roku"
          ],
          [
           "Orchard"
          ],
          [
           "Juni"
          ],
          [
           "Chili Piper"
          ],
          [
           "Capitolis"
          ],
          [
           "TealBook"
          ],
          [
           "Koho"
          ],
          [
           "Amazon"
          ],
          [
           "Cisco"
          ],
          [
           "Wayflyer"
          ],
          [
           "SimilarWeb"
          ],
          [
           "Salsify"
          ],
          [
           "Lokalise"
          ],
          [
           "Yotpo"
          ],
          [
           "UiPath"
          ],
          [
           "Asana"
          ],
          [
           "OwnBackup"
          ],
          [
           "Deliveroo Australia"
          ],
          [
           "Properly"
          ],
          [
           "Jimdo"
          ],
          [
           "The Zebra"
          ],
          [
           "CaptivateIQ"
          ],
          [
           "Illumina"
          ],
          [
           "Sema4"
          ],
          [
           "iFit"
          ],
          [
           "Ribbon"
          ],
          [
           "Pipedrive"
          ],
          [
           "Intercom"
          ],
          [
           "Science 37"
          ],
          [
           "Science 37 "
          ],
          [
           "Pear Therapeutics"
          ],
          [
           "Cardlytics"
          ],
          [
           "Cloudinary"
          ],
          [
           "Nestcoin"
          ],
          [
           "Veev"
          ],
          [
           "GoTo Group"
          ],
          [
           "Juul"
          ],
          [
           "InfluxData"
          ],
          [
           "Coinbase"
          ],
          [
           "SoundHound"
          ],
          [
           "Wistia"
          ],
          [
           "Ocavu"
          ],
          [
           "Meta"
          ],
          [
           "Redfin"
          ],
          [
           "Flyhomes"
          ],
          [
           "AvantStay"
          ],
          [
           "Root Insurance"
          ],
          [
           "Liftoff"
          ],
          [
           "Cameo"
          ],
          [
           "Plum"
          ],
          [
           "Kabam"
          ],
          [
           "Repertoire Immune Medicines"
          ],
          [
           "Salesforce"
          ],
          [
           "Unacademy"
          ],
          [
           "Zendesk"
          ],
          [
           "Dock"
          ],
          [
           "Varonis"
          ],
          [
           "Brainly"
          ],
          [
           "Twitter"
          ],
          [
           "Udaan"
          ],
          [
           "Planetly"
          ],
          [
           "KoinWorks"
          ],
          [
           "Exodus"
          ],
          [
           "Stripe"
          ],
          [
           "Lyft"
          ],
          [
           "Pleo"
          ],
          [
           "Delivery Hero"
          ],
          [
           "Shippo"
          ],
          [
           "Opendoor"
          ],
          [
           "Chime"
          ],
          [
           "Chargebee"
          ],
          [
           "Dapper Labs"
          ],
          [
           "Checkmarx"
          ],
          [
           "Smava"
          ],
          [
           "Iron Ox"
          ],
          [
           "Upstart"
          ],
          [
           "Gem"
          ],
          [
           "Oda"
          ],
          [
           "Oda"
          ],
          [
           "Hootsuite"
          ],
          [
           "Drop"
          ],
          [
           "Kry"
          ],
          [
           "Notarize"
          ],
          [
           "EquityZen"
          ],
          [
           "Equitybee"
          ],
          [
           "Dukaan"
          ],
          [
           "Fifth Season"
          ],
          [
           "RenoRun"
          ],
          [
           "Recharge"
          ],
          [
           "Lattice"
          ],
          [
           "MindBody"
          ],
          [
           "Zillow"
          ],
          [
           "Cybereason"
          ],
          [
           "Fundbox"
          ],
          [
           "Embroker"
          ],
          [
           "Vee"
          ],
          [
           "Cerebral"
          ],
          [
           "Snyk"
          ],
          [
           "McMakler"
          ],
          [
           "OrCam"
          ],
          [
           "Antidote Health"
          ],
          [
           "Khoros"
          ],
          [
           "Elinvar"
          ],
          [
           "Synapsica"
          ],
          [
           "Hotmart"
          ],
          [
           "Zeus Living"
          ],
          [
           "Loom"
          ],
          [
           "Sales Boomerang"
          ],
          [
           "Gopuff"
          ],
          [
           "AtoB"
          ],
          [
           "InfoSum"
          ],
          [
           "Faire"
          ],
          [
           "Leafly"
          ],
          [
           "Ada Health"
          ],
          [
           "Flipboard"
          ],
          [
           "Beyond Meat"
          ],
          [
           "Salesforce"
          ],
          [
           "Playdots"
          ],
          [
           "Byju's"
          ],
          [
           "6sense"
          ],
          [
           "FrontRow"
          ],
          [
           "Noom"
          ],
          [
           "MX"
          ],
          [
           "Brex"
          ],
          [
           "Pacaso"
          ],
          [
           "Sketch"
          ],
          [
           "Udacity"
          ],
          [
           "Linkfire"
          ],
          [
           "HelloFresh"
          ],
          [
           "Momentive"
          ],
          [
           "Pavilion Data"
          ],
          [
           "Redesign Health"
          ],
          [
           "BioMarin"
          ],
          [
           "Rev.com"
          ],
          [
           "Crypto.com"
          ],
          [
           "Peloton"
          ],
          [
           "Landing"
          ],
          [
           "Impossible Foods"
          ],
          [
           "Built In"
          ],
          [
           "Homie"
          ],
          [
           "Spin"
          ],
          [
           "Westwing"
          ],
          [
           "Mux"
          ],
          [
           "DocuSign"
          ],
          [
           "Divvy Homes"
          ],
          [
           "Konfio"
          ],
          [
           "Moss"
          ],
          [
           "Foxtrot"
          ],
          [
           "Truiloo"
          ],
          [
           "NYDIG"
          ],
          [
           "Klarna"
          ],
          [
           "Kitty Hawk"
          ],
          [
           "Compass"
          ],
          [
           "Curative"
          ],
          [
           "Ada"
          ],
          [
           "99"
          ],
          [
           "Ola"
          ],
          [
           "Vesalius Therapeutics"
          ],
          [
           "Clear"
          ],
          [
           "TrueLayer"
          ],
          [
           "LivePerson"
          ],
          [
           "Acast"
          ],
          [
           "WorkRamp"
          ],
          [
           "Twilio"
          ],
          [
           "Pitch"
          ],
          [
           "Infarm"
          ],
          [
           "Netflix"
          ],
          [
           "Rubius"
          ],
          [
           "Checkout.com"
          ],
          [
           "Taboola"
          ],
          [
           "Patreon"
          ],
          [
           "Quicko"
          ],
          [
           "Mode Analytics"
          ],
          [
           "Compete"
          ],
          [
           "SkipTheDishes"
          ],
          [
           "Brighte"
          ],
          [
           "Patreon"
          ],
          [
           "GoStudent"
          ],
          [
           "Pomelo Fashion"
          ],
          [
           "Genome Medical"
          ],
          [
           "Simple Feast"
          ],
          [
           "Foodpanda"
          ],
          [
           "Uber"
          ],
          [
           "Rupeek"
          ],
          [
           "Intercom"
          ],
          [
           "Pendo"
          ],
          [
           "Demandbase"
          ],
          [
           "Brave Care"
          ],
          [
           "Lawgeex"
          ],
          [
           "Kuda"
          ],
          [
           "2TM"
          ],
          [
           "Innovaccer"
          ],
          [
           "Shopify"
          ],
          [
           "Urban Sports Club"
          ],
          [
           "Hedvig"
          ],
          [
           "Snap"
          ],
          [
           "GoodRx"
          ],
          [
           "Smava"
          ],
          [
           "Hippo Insurance"
          ],
          [
           "Clari"
          ],
          [
           "Koo"
          ],
          [
           "Apartment List"
          ],
          [
           "Electric"
          ],
          [
           "Immersive Labs"
          ],
          [
           "Nate"
          ],
          [
           "Meesho"
          ],
          [
           "54gene"
          ],
          [
           "Zymergen"
          ],
          [
           "Okta"
          ],
          [
           "Argyle"
          ],
          [
           "FreshDirect"
          ],
          [
           "Reali"
          ],
          [
           "Loop"
          ],
          [
           "Tier Mobility"
          ],
          [
           "Packable"
          ],
          [
           "Q4"
          ],
          [
           "Skedulo"
          ],
          [
           "Plato"
          ],
          [
           "NSO"
          ],
          [
           "Tufin"
          ],
          [
           "Amperity"
          ],
          [
           "Wayfair"
          ],
          [
           "Stripe"
          ],
          [
           "New Relic"
          ],
          [
           "Wheel"
          ],
          [
           "Malwarebytes"
          ],
          [
           "Tempo Automation"
          ],
          [
           "Warren"
          ],
          [
           "AlayaCare"
          ],
          [
           "Pliops"
          ],
          [
           "Woven"
          ],
          [
           "Sema4"
          ],
          [
           "Blend"
          ],
          [
           "ContraFect"
          ],
          [
           "Anywell"
          ],
          [
           "Peloton"
          ],
          [
           "Truepill"
          ],
          [
           "Calm"
          ],
          [
           "FourKites"
          ],
          [
           "Marketforce"
          ],
          [
           "Betterfly"
          ],
          [
           "Expert360"
          ],
          [
           "Trybe"
          ],
          [
           "Permutive"
          ],
          [
           "GoHealth"
          ],
          [
           "Hootsuite"
          ],
          [
           "Nutanix"
          ],
          [
           "Quanterix"
          ],
          [
           "Wix"
          ],
          [
           "MadeiraMadeira"
          ],
          [
           "Melio"
          ],
          [
           "Linktree"
          ],
          [
           "Shogun"
          ],
          [
           "Absci"
          ],
          [
           "Dooly"
          ],
          [
           "Groupon"
          ],
          [
           "Loggi"
          ],
          [
           "Vroom"
          ],
          [
           "Warby Parker"
          ],
          [
           "Labelbox"
          ],
          [
           "Perion"
          ],
          [
           "iRobot"
          ],
          [
           "RenoRun"
          ],
          [
           "Mejuri"
          ],
          [
           "Uberflip"
          ],
          [
           "Doma"
          ],
          [
           "Jam City"
          ],
          [
           "10X Genomics"
          ],
          [
           "LEAD"
          ],
          [
           "Zendesk"
          ],
          [
           "On Deck"
          ],
          [
           "RenoRun"
          ],
          [
           "RingCentral"
          ],
          [
           "Healthcare.com"
          ],
          [
           "Unbounce"
          ],
          [
           "Beyond Meat"
          ],
          [
           "The Org"
          ],
          [
           "Robinhood"
          ],
          [
           "Latch"
          ],
          [
           "Vedantu"
          ],
          [
           "Seegrid"
          ],
          [
           "Nylas"
          ],
          [
           "Outreach"
          ],
          [
           "Sendy"
          ],
          [
           "The Predictive Index"
          ],
          [
           "Sendy"
          ],
          [
           "Stedi"
          ],
          [
           "Glossier"
          ],
          [
           "Hash"
          ],
          [
           "Metigy"
          ],
          [
           "Vee"
          ],
          [
           "Ola"
          ],
          [
           "Clearco"
          ],
          [
           "Imperfect Foods"
          ],
          [
           "Shelf Engine"
          ],
          [
           "Quantcast"
          ],
          [
           "Sherpa"
          ],
          [
           "Ribbon"
          ],
          [
           "Career Karma"
          ],
          [
           "Metromile"
          ],
          [
           "Laybuy"
          ],
          [
           "Allbirds"
          ],
          [
           "TextNow"
          ],
          [
           "Rivian"
          ],
          [
           "Vox Media"
          ],
          [
           "Coinsquare"
          ],
          [
           "Skai"
          ],
          [
           "Shopify"
          ],
          [
           "McMakler"
          ],
          [
           "Fiverr"
          ],
          [
           "InDebted"
          ],
          [
           "Outbrain"
          ],
          [
           "Dover"
          ],
          [
           "Immutable"
          ],
          [
           "Zymergen"
          ],
          [
           "Pear Therapeutics "
          ],
          [
           "Soluto"
          ],
          [
           "Eucalyptus"
          ],
          [
           "Workstream"
          ],
          [
           "Quanto"
          ],
          [
           "Clarify Health"
          ],
          [
           "Blockchain.com"
          ],
          [
           "WHOOP"
          ],
          [
           "Rad Power Bikes"
          ],
          [
           "Lunchbox"
          ],
          [
           "RealSelf"
          ],
          [
           "Just Eat Takeaway"
          ],
          [
           "Flyhomes"
          ],
          [
           "Varo"
          ],
          [
           "BlueStacks"
          ],
          [
           "Lyft"
          ],
          [
           "Introhive"
          ],
          [
           "Zencity"
          ],
          [
           "Splice"
          ],
          [
           "Forma.ai"
          ],
          [
           "Arc"
          ],
          [
           "Invitae"
          ],
          [
           "Olive"
          ],
          [
           "M1"
          ],
          [
           "SellerX"
          ],
          [
           "PACT Pharma"
          ],
          [
           "Gemini"
          ],
          [
           "Lusha"
          ],
          [
           "Bright Money"
          ],
          [
           "Project44"
          ],
          [
           "Heroes"
          ],
          [
           "Aspire"
          ],
          [
           "Zego"
          ],
          [
           "The Mom Project"
          ],
          [
           "Unstoppable Domains"
          ],
          [
           "Kiavi"
          ],
          [
           "Wave"
          ],
          [
           "Tonal"
          ],
          [
           "Fabric"
          ],
          [
           "Bryter"
          ],
          [
           "ChowNow"
          ],
          [
           "Involves"
          ],
          [
           "100 Thieves"
          ],
          [
           "Nuro"
          ],
          [
           "Gopuff"
          ],
          [
           "Fraazo"
          ],
          [
           "Babylon"
          ],
          [
           "Hubilo"
          ],
          [
           "Hopin"
          ],
          [
           "Alice"
          ],
          [
           "SundaySky"
          ],
          [
           "PuduTech"
          ],
          [
           "Butler Hospitality"
          ],
          [
           "Calibrate"
          ],
          [
           "Argo AI"
          ],
          [
           "Next Insurance"
          ],
          [
           "Adwerx"
          ],
          [
           "Emotive"
          ],
          [
           "Remote"
          ],
          [
           "Shopify"
          ],
          [
           "Anodot"
          ],
          [
           "SQream"
          ],
          [
           "Loft"
          ],
          [
           "Bizzabo"
          ],
          [
           "eToro"
          ],
          [
           "Verbit"
          ],
          [
           "Outschool"
          ],
          [
           "Bullish"
          ],
          [
           "Transmit Security"
          ],
          [
           "Thimble"
          ],
          [
           "Syte"
          ],
          [
           "Lightricks"
          ],
          [
           "Sendle"
          ],
          [
           "Lendis"
          ],
          [
           "Gorillas"
          ],
          [
           "Celsius"
          ],
          [
           "WanderJaunt"
          ],
          [
           "Canoo"
          ],
          [
           "Teleport"
          ],
          [
           "Enjoy"
          ],
          [
           "Crejo.Fun"
          ],
          [
           "Stash Financial"
          ],
          [
           "Nate"
          ],
          [
           "Snyk"
          ],
          [
           "Stream"
          ],
          [
           "Finleap Connect"
          ],
          [
           "Abra"
          ],
          [
           "Toppr"
          ],
          [
           "Unity"
          ],
          [
           "Niantic"
          ],
          [
           "AvantStay"
          ],
          [
           "Qumulo"
          ],
          [
           "Clutch"
          ],
          [
           "Parallel Wireless"
          ],
          [
           "Oye Rickshaw"
          ],
          [
           "Rows"
          ],
          [
           "Baton"
          ],
          [
           "Substack"
          ],
          [
           "Huobi"
          ],
          [
           "WhiteHat Jr"
          ],
          [
           "StockX"
          ],
          [
           "Sidecar Health"
          ],
          [
           "StockX"
          ],
          [
           "Vezeeta"
          ],
          [
           "Bright Machines"
          ],
          [
           "HealthMatch"
          ],
          [
           "AppLovin"
          ],
          [
           "UiPath"
          ],
          [
           "Udaan"
          ],
          [
           "Cue"
          ],
          [
           "Banxa"
          ],
          [
           "SafeGraph"
          ],
          [
           "Postscript"
          ],
          [
           "Bitpanda"
          ],
          [
           "Sunday"
          ],
          [
           "Bestow"
          ],
          [
           "Ethos Life"
          ],
          [
           "Netflix"
          ],
          [
           "Aura"
          ],
          [
           "Pipl"
          ],
          [
           "Vouch"
          ],
          [
           "Voyage SMS"
          ],
          [
           "MasterClass"
          ],
          [
           "IronNet"
          ],
          [
           "Bungalow"
          ],
          [
           "IronNet"
          ],
          [
           "Sprinklr"
          ],
          [
           "Superpedestrian"
          ],
          [
           "Voi"
          ],
          [
           "Balto"
          ],
          [
           "Ritual"
          ],
          [
           "Ebanx"
          ],
          [
           "TaskUs"
          ],
          [
           "Community"
          ],
          [
           "Sourcegraph"
          ],
          [
           "SummerBio"
          ],
          [
           "Trax"
          ],
          [
           "Aqgromalin"
          ],
          [
           "Bonsai"
          ],
          [
           "Brighte"
          ],
          [
           "CityMall"
          ],
          [
           "BitOasis"
          ],
          [
           "Unacademy"
          ],
          [
           "Bytedance"
          ],
          [
           "Socure"
          ],
          [
           "Finite State"
          ],
          [
           "JOKR"
          ],
          [
           "Zumper"
          ],
          [
           "PharmEasy"
          ],
          [
           "Swappie"
          ],
          [
           "Wealthsimple"
          ],
          [
           "Weee!"
          ],
          [
           "Notarize"
          ],
          [
           "Elementor"
          ],
          [
           "Tonkean"
          ],
          [
           "Airtame"
          ],
          [
           "OpenWeb"
          ],
          [
           "Swyft"
          ],
          [
           "Coinbase"
          ],
          [
           "Redfin"
          ],
          [
           "Compass"
          ],
          [
           "Sami"
          ],
          [
           "Breathe"
          ],
          [
           "Hunty"
          ],
          [
           "TIFIN"
          ],
          [
           "BlockFi"
          ],
          [
           "Wave Sports and Entertainment"
          ],
          [
           "Studio"
          ],
          [
           "Crypto.com"
          ],
          [
           "FarEye"
          ],
          [
           "Berlin Brands Group"
          ],
          [
           "Sanar"
          ],
          [
           "Freetrade"
          ],
          [
           "Albert"
          ],
          [
           "OneTrust"
          ],
          [
           "Stitch Fix"
          ],
          [
           "Convoy"
          ],
          [
           "Hologram"
          ],
          [
           "Boozt"
          ],
          [
           "The Grommet"
          ],
          [
           "Stashaway"
          ],
          [
           "Preply"
          ],
          [
           "Sonder"
          ],
          [
           "Kavak"
          ],
          [
           "Truepill"
          ],
          [
           "iPrice Group"
          ],
          [
           "Cazoo"
          ],
          [
           "Cazoo"
          ],
          [
           "Rupeek"
          ],
          [
           "Lummo"
          ],
          [
           "Bird"
          ],
          [
           "ID.me"
          ],
          [
           "KiwiCo"
          ],
          [
           "Clearco"
          ],
          [
           "Dutchie"
          ],
          [
           "Eruditus"
          ],
          [
           "Superhuman"
          ],
          [
           "Food52"
          ],
          [
           "Carbon Health"
          ],
          [
           "Favo"
          ],
          [
           "PolicyGenius"
          ],
          [
           "Yojak"
          ],
          [
           "Gemini"
          ],
          [
           "Stord"
          ],
          [
           "Gather"
          ],
          [
           "Shef"
          ],
          [
           "IRL"
          ],
          [
           "Cybereason"
          ],
          [
           "Udayy"
          ],
          [
           "2TM"
          ],
          [
           "Curve"
          ],
          [
           "Loom"
          ],
          [
           "Skillshare"
          ],
          [
           "Impala"
          ],
          [
           "Eaze"
          ],
          [
           "Replicated"
          ],
          [
           "Tomo"
          ],
          [
           "Getta"
          ],
          [
           "BookClub"
          ],
          [
           "SWVL"
          ],
          [
           "Mobile Premier League"
          ],
          [
           "SumUp"
          ],
          [
           "FrontRow"
          ],
          [
           "Daloopa"
          ],
          [
           "Uncapped"
          ],
          [
           "VTEX"
          ],
          [
           "Bitso"
          ],
          [
           "Foodpanda"
          ],
          [
           "Lacework"
          ],
          [
           "Bolt"
          ],
          [
           "PeerStreet"
          ],
          [
           "Kontist"
          ],
          [
           "Nuri"
          ],
          [
           "Coterie Insurance"
          ],
          [
           "Gorillas"
          ],
          [
           "Zenius"
          ],
          [
           "The Zebra"
          ],
          [
           "Klarna"
          ],
          [
           "PayPal"
          ],
          [
           "Buenbit"
          ],
          [
           "BeyondMinds"
          ],
          [
           "ClickUp"
          ],
          [
           "Airtime"
          ],
          [
           "MFine"
          ],
          [
           "Latch"
          ],
          [
           "Outside"
          ],
          [
           "Skillz"
          ],
          [
           "Cars24"
          ],
          [
           "Vedantu"
          ],
          [
           "Netflix"
          ],
          [
           "Kry"
          ],
          [
           "Picsart"
          ],
          [
           "Zak"
          ],
          [
           "AliExpress Russia"
          ],
          [
           "Thirty Madison"
          ],
          [
           "CommonBond"
          ],
          [
           "Zwift"
          ],
          [
           "Section4"
          ],
          [
           "DataRobot"
          ],
          [
           "Carvana"
          ],
          [
           "Doma"
          ],
          [
           "Pollen"
          ],
          [
           "Latch"
          ],
          [
           "Vroom"
          ],
          [
           "Reef"
          ],
          [
           "Vedantu"
          ],
          [
           "Mural"
          ],
          [
           "On Deck"
          ],
          [
           "SEND"
          ],
          [
           "Colossus"
          ],
          [
           "Cameo"
          ],
          [
           "Mainstreet"
          ],
          [
           "Ideoclick"
          ],
          [
           "Vise"
          ],
          [
           "Avo"
          ],
          [
           "Noom"
          ],
          [
           "Domestika"
          ],
          [
           "Netflix"
          ],
          [
           "Robinhood"
          ],
          [
           "Bonsai"
          ],
          [
           "Clyde"
          ],
          [
           "Xiaohongshu"
          ],
          [
           "Facily"
          ],
          [
           "Lemonade"
          ],
          [
           "Blend"
          ],
          [
           "QuintoAndar"
          ],
          [
           "Loft"
          ],
          [
           "Humble"
          ],
          [
           "Ahead"
          ],
          [
           "Rad Power Bikes"
          ],
          [
           "Meesho"
          ],
          [
           "Food52"
          ],
          [
           "Unacademy"
          ],
          [
           "Goodfood"
          ],
          [
           "Workrise"
          ],
          [
           "Legible"
          ],
          [
           "Sea"
          ],
          [
           "Rasa"
          ],
          [
           "Gopuff"
          ],
          [
           "Thinkific"
          ],
          [
           "Furlenco"
          ],
          [
           "Storytel"
          ],
          [
           "Curology"
          ],
          [
           "Trell"
          ],
          [
           "Knock"
          ],
          [
           "Better.com"
          ],
          [
           "Adaptive Biotechnologies"
          ],
          [
           "Hyperscience"
          ],
          [
           "WeDoctor"
          ],
          [
           "Wish"
          ],
          [
           "OKCredit"
          ],
          [
           "Lido"
          ],
          [
           "Virgin Hyperloop"
          ],
          [
           "Trustly"
          ],
          [
           "Liv Up"
          ],
          [
           "Homie"
          ],
          [
           "Hopin"
          ],
          [
           "Peloton"
          ],
          [
           "Rhino"
          ],
          [
           "Gopuff"
          ],
          [
           "Glossier"
          ],
          [
           "Root Insurance"
          ],
          [
           "Delivery Hero"
          ],
          [
           "Better.com"
          ],
          [
           "BitTitan"
          ],
          [
           "Zillow"
          ],
          [
           "InVision"
          ],
          [
           "Zymergen"
          ],
          [
           "Treehouse"
          ],
          [
           "Tanium"
          ],
          [
           "Flockjay"
          ],
          [
           "Bytedance"
          ],
          [
           "Pagarbook"
          ],
          [
           "Katerra"
          ],
          [
           "Lambda School"
          ],
          [
           "Patreon"
          ],
          [
           "New Relic"
          ],
          [
           "HuffPo"
          ],
          [
           "Ninjacart"
          ],
          [
           "Bounce"
          ],
          [
           "ThredUp"
          ],
          [
           "Indigo"
          ],
          [
           "Quandoo"
          ],
          [
           "Hubba"
          ],
          [
           "Bytedance"
          ],
          [
           "Privitar"
          ],
          [
           "Postmates"
          ],
          [
           "Instacart"
          ],
          [
           "Pocketmath"
          ],
          [
           "Dropbox"
          ],
          [
           "WhiteHat Jr"
          ],
          [
           "Breather"
          ],
          [
           "Actifio"
          ],
          [
           "OYO"
          ],
          [
           "Aya"
          ],
          [
           "Bridge Connector"
          ],
          [
           "Worksmith"
          ],
          [
           "Remedy"
          ],
          [
           "Knotel"
          ],
          [
           "CodeCombat"
          ],
          [
           "GetYourGuide"
          ],
          [
           "OLX India"
          ],
          [
           "Alto Pharmacy"
          ],
          [
           "NS8"
          ],
          [
           "Bleacher Report"
          ],
          [
           "Waze"
          ],
          [
           "Big Fish Games"
          ],
          [
           "GoBear"
          ],
          [
           "MakeMyTrip"
          ],
          [
           "Salesforce"
          ],
          [
           "Superloop"
          ],
          [
           "Docly"
          ],
          [
           "Shopify"
          ],
          [
           "Mozilla"
          ],
          [
           "Eatsy"
          ],
          [
           "Glossier"
          ],
          [
           "Thriver"
          ],
          [
           "Vesta"
          ],
          [
           "Buy.com / Rakuten"
          ],
          [
           "Procore"
          ],
          [
           "Swiggy"
          ],
          [
           "Zeitgold"
          ],
          [
           "Checkr"
          ],
          [
           "LinkedIn"
          ],
          [
           "Lighter Capital"
          ],
          [
           "Curefit"
          ],
          [
           "Optimizely"
          ],
          [
           "Skyscanner"
          ],
          [
           "Yelp"
          ],
          [
           "Bizongo"
          ],
          [
           "Zilingo"
          ],
          [
           "PaySense"
          ],
          [
           "Funding Circle"
          ],
          [
           "The Wing"
          ],
          [
           "Sharethrough"
          ],
          [
           "Kongregate"
          ],
          [
           "Havenly"
          ],
          [
           "G2"
          ],
          [
           "Katerra"
          ],
          [
           "Bounce"
          ],
          [
           "Argo AI"
          ],
          [
           "Bossa Nova"
          ],
          [
           "New Relic"
          ],
          [
           "Sonos"
          ],
          [
           "Gojek"
          ],
          [
           "ScaleFactor"
          ],
          [
           "Dark"
          ],
          [
           "Intuit"
          ],
          [
           "WeWork"
          ],
          [
           "Atlas Obscura "
          ],
          [
           "Navi"
          ],
          [
           "PaisaBazaar"
          ],
          [
           "Grab"
          ],
          [
           "Splunk"
          ],
          [
           "Redox"
          ],
          [
           "Uber"
          ],
          [
           "SynapseFI"
          ],
          [
           "Branch"
          ],
          [
           "Integrate.ai"
          ],
          [
           "The Athletic"
          ],
          [
           "Ethos Life"
          ],
          [
           "Lastline"
          ],
          [
           "Builder"
          ],
          [
           "Monzo"
          ],
          [
           "Kitty Hawk"
          ],
          [
           "SpotHero"
          ],
          [
           "Credit Sesame"
          ],
          [
           "Circ"
          ],
          [
           "Rivian"
          ],
          [
           "Fundbox"
          ],
          [
           "Descartes Labs"
          ],
          [
           "MakerBot"
          ],
          [
           "Stitch Fix"
          ],
          [
           "MakeMyTrip"
          ],
          [
           "CrowdStreet"
          ],
          [
           "Brex"
          ],
          [
           "Loftium"
          ],
          [
           "BookMyShow"
          ],
          [
           "TrueCar"
          ],
          [
           "StubHub"
          ],
          [
           "Culture Amp"
          ],
          [
           "The Sill"
          ],
          [
           "Instructure"
          ],
          [
           "Ebanx"
          ],
          [
           "Uber"
          ],
          [
           "Bluprint"
          ],
          [
           "Acorns"
          ],
          [
           "CarDekho"
          ],
          [
           "Cvent"
          ],
          [
           "PickYourTrail"
          ],
          [
           "Glitch"
          ],
          [
           "Ola"
          ],
          [
           "Samsara"
          ],
          [
           "Stay Alfred"
          ],
          [
           "SoFi"
          ],
          [
           "ShareChat"
          ],
          [
           "Intercom"
          ],
          [
           "Livspace"
          ],
          [
           "Pollen"
          ],
          [
           "Uber"
          ],
          [
           "Swiggy"
          ],
          [
           "WeWork"
          ],
          [
           "Rubrik"
          ],
          [
           "Magicbricks"
          ],
          [
           "Zomato"
          ],
          [
           "Lendingkart"
          ],
          [
           "Lattice"
          ],
          [
           "Cruise"
          ],
          [
           "Integral Ad Science"
          ],
          [
           "Ridecell"
          ],
          [
           "Veem"
          ],
          [
           "Deliv"
          ],
          [
           "Mercos"
          ],
          [
           "Kickstarter"
          ],
          [
           "Mode Analytics"
          ],
          [
           "Zeus Living"
          ],
          [
           "Mixpanel"
          ],
          [
           "Hireology"
          ],
          [
           "Top Hat"
          ],
          [
           "Revolut"
          ],
          [
           "Cadre"
          ],
          [
           "N26"
          ],
          [
           "Jump"
          ],
          [
           "Glassdoor"
          ],
          [
           "Numbrs"
          ],
          [
           "Flywire"
          ],
          [
           "SalesLoft"
          ],
          [
           "Tally"
          ],
          [
           "Uber"
          ],
          [
           "Flatiron School"
          ],
          [
           "Rubicon Project"
          ],
          [
           "Segment"
          ],
          [
           "Airbnb"
          ],
          [
           "Juul"
          ],
          [
           "Andela"
          ],
          [
           "Stack Overflow"
          ],
          [
           "Pipedrive"
          ],
          [
           "Workable"
          ],
          [
           "CureFit"
          ],
          [
           "Careem"
          ],
          [
           "Oriente"
          ],
          [
           "Veriff"
          ],
          [
           "Element AI"
          ],
          [
           "Deputy"
          ],
          [
           "Loopio"
          ],
          [
           "Trax"
          ],
          [
           "LiveTiles"
          ],
          [
           "OYO"
          ],
          [
           "Namely"
          ],
          [
           "Culture Trip"
          ],
          [
           "Sandbox VR"
          ],
          [
           "Virtudent"
          ],
          [
           "Monese"
          ],
          [
           "TheSkimm"
          ],
          [
           "Bullhorn"
          ],
          [
           "Care.com"
          ],
          [
           "Lyft"
          ],
          [
           "WeWork"
          ],
          [
           "Kayak / OpenTable"
          ],
          [
           "Kitopi"
          ],
          [
           "Lime"
          ],
          [
           "Transfix"
          ],
          [
           "TripAdvisor"
          ],
          [
           "Deliveroo"
          ],
          [
           "App Annie"
          ],
          [
           "OpenX"
          ],
          [
           "PayJoy"
          ],
          [
           "Shipsi"
          ],
          [
           "Automation Anywhere"
          ],
          [
           "JetClosing"
          ],
          [
           "OYO"
          ],
          [
           "Submittable"
          ],
          [
           "Divergent 3D"
          ],
          [
           "Ada Support"
          ],
          [
           "UPshow"
          ],
          [
           "Lighter Capital"
          ],
          [
           "Horizn Studios"
          ],
          [
           "Welkin Health"
          ],
          [
           "Jiobit"
          ],
          [
           "TutorMundi"
          ],
          [
           "StockX"
          ],
          [
           "Zenefits"
          ],
          [
           "Sisense"
          ],
          [
           "Oscar Health"
          ],
          [
           "Simon Data"
          ],
          [
           "Magic Leap"
          ],
          [
           "When I Work"
          ],
          [
           "Ike"
          ],
          [
           "Swiggy"
          ],
          [
           "Paytm"
          ],
          [
           "Lending Club"
          ],
          [
           "Houzz"
          ],
          [
           "Casper"
          ],
          [
           "RealSelf"
          ],
          [
           "Freshbooks"
          ],
          [
           "Patreon"
          ],
          [
           "Lambda School"
          ],
          [
           "Bringg"
          ],
          [
           "Klook"
          ],
          [
           "ConsenSys"
          ],
          [
           "GumGum"
          ],
          [
           "Kueski"
          ],
          [
           "Movidesk"
          ],
          [
           "Zum"
          ],
          [
           "Komodo Health"
          ],
          [
           "Forward"
          ],
          [
           "BlackBuck"
          ],
          [
           "ContaAzul"
          ],
          [
           "Greenhouse Software"
          ],
          [
           "QuintoAndar"
          ],
          [
           "Loft"
          ],
          [
           "Zilingo"
          ],
          [
           "Labster"
          ],
          [
           "Sweetgreen"
          ],
          [
           "People.ai"
          ],
          [
           "Tor"
          ],
          [
           "CarGurus"
          ],
          [
           "Funding Societies"
          ],
          [
           "CleverTap"
          ],
          [
           "Opendoor"
          ],
          [
           "GoPro"
          ],
          [
           "Shop101"
          ],
          [
           "Zume"
          ],
          [
           "Carta"
          ],
          [
           "Akulaku"
          ],
          [
           "Parsable"
          ],
          [
           "Kodiak Robotics"
          ],
          [
           "Tulip Retail"
          ],
          [
           "Trove Recommerce"
          ],
          [
           "The RealReal"
          ],
          [
           "TouchBistro"
          ],
          [
           "Envoy"
          ],
          [
           "VSCO"
          ],
          [
           "Skillz"
          ],
          [
           "DataStax"
          ],
          [
           "Xerpa"
          ],
          [
           "Groupon"
          ],
          [
           "Zoox"
          ],
          [
           "Neon"
          ],
          [
           "EasyPost"
          ],
          [
           "Clearbanc"
          ],
          [
           "Meow Wolf"
          ],
          [
           "Frontdesk"
          ],
          [
           "BeeTech"
          ],
          [
           "Built In"
          ],
          [
           "NuoDB"
          ],
          [
           "Rhumbix"
          ],
          [
           "Atsu"
          ],
          [
           "Yelp"
          ],
          [
           "Monzo"
          ],
          [
           "OneTrust"
          ],
          [
           "Omie"
          ],
          [
           "Domo"
          ],
          [
           "Matterport"
          ],
          [
           "Clinc"
          ],
          [
           "Mejuri"
          ],
          [
           "Code42"
          ],
          [
           "LoopMe"
          ],
          [
           "Eventbrite"
          ],
          [
           "Meesho"
          ],
          [
           "Scoop"
          ],
          [
           "Unison"
          ],
          [
           "Lever"
          ],
          [
           "Unbabel"
          ],
          [
           "Button"
          ],
          [
           "Eden / Managed By Q"
          ],
          [
           "Quantcast"
          ],
          [
           "VideoAmp"
          ],
          [
           "Kenoby"
          ],
          [
           "GetNinjas"
          ],
          [
           "Spyce"
          ],
          [
           "Toast"
          ],
          [
           "ezCater"
          ],
          [
           "Sage Therapeutics"
          ],
          [
           "Redfin"
          ],
          [
           "Branch Metrics"
          ],
          [
           "Ibotta"
          ],
          [
           "Virta Health"
          ],
          [
           "Away"
          ],
          [
           "MediaMath"
          ],
          [
           "Group Nine Media"
          ],
          [
           "Nav"
          ],
          [
           "Metromile"
          ],
          [
           "Rock Content"
          ],
          [
           "BounceX"
          ],
          [
           "Wordstream"
          ],
          [
           "Cogito"
          ],
          [
           "BusBud"
          ],
          [
           "Borrowell"
          ],
          [
           "PerkSpot"
          ],
          [
           "Astra"
          ],
          [
           "Iflix"
          ],
          [
           "Gympass"
          ],
          [
           "Sojern"
          ],
          [
           "Minted"
          ],
          [
           "Velodyne Lidar"
          ],
          [
           "Zoox"
          ],
          [
           "Arrive Logistics"
          ],
          [
           "Salsify"
          ],
          [
           "Jetty"
          ],
          [
           "D2iQ"
          ],
          [
           "Bustle Digital Group"
          ],
          [
           "Bustle Digital Group"
          ],
          [
           "Opencare"
          ],
          [
           "Anagram"
          ],
          [
           "DSCO"
          ],
          [
           "MindBody"
          ],
          [
           "Katerra"
          ],
          [
           "Ritual"
          ],
          [
           "ClassPass"
          ],
          [
           "eGym"
          ],
          [
           "Voi"
          ],
          [
           "Industrious"
          ],
          [
           "1stdibs"
          ],
          [
           "ThirdLove"
          ],
          [
           "Latch"
          ],
          [
           "The Predictive Index"
          ],
          [
           "Shuttl"
          ],
          [
           "Jobcase"
          ],
          [
           "Copper"
          ],
          [
           "Dynamic Signal"
          ],
          [
           "FiscalNote"
          ],
          [
           "Sauce Labs"
          ],
          [
           "Humu"
          ],
          [
           "TripleLift"
          ],
          [
           "Coding Dojo"
          ],
          [
           "Instamojo"
          ],
          [
           "Synergysuite"
          ],
          [
           "Booksy"
          ],
          [
           "PatientPop"
          ],
          [
           "Showpad"
          ],
          [
           "Highsnobiety"
          ],
          [
           "Earnin"
          ],
          [
           "Wonolo"
          ],
          [
           "Acko"
          ],
          [
           "Aqua Security"
          ],
          [
           "Crayon"
          ],
          [
           "Pana"
          ],
          [
           "Sensibill"
          ],
          [
           "Usermind"
          ],
          [
           "Incredible Health"
          ],
          [
           "KeepTruckin"
          ],
          [
           "AdRoll"
          ],
          [
           "Rover"
          ],
          [
           "Turo"
          ],
          [
           "uShip"
          ],
          [
           "Siteimprove"
          ],
          [
           "AngelList"
          ],
          [
           "Zenoti"
          ],
          [
           "DialSource"
          ],
          [
           "Thumbtack"
          ],
          [
           "RigUp"
          ],
          [
           "FabHotels"
          ],
          [
           "Hibob"
          ],
          [
           "PeerStreet"
          ],
          [
           "Maven"
          ],
          [
           "Catalant"
          ],
          [
           "Starship Technologies"
          ],
          [
           "Loftsmart"
          ],
          [
           "Caliva"
          ],
          [
           "Iris Nova"
          ],
          [
           "ZipRecruiter"
          ],
          [
           "Amplero"
          ],
          [
           "Polarr"
          ],
          [
           "TravelTriangle"
          ],
          [
           "WeWork"
          ],
          [
           "OneWeb"
          ],
          [
           "Bird"
          ],
          [
           "HOOQ"
          ],
          [
           "Everlane"
          ],
          [
           "DataRobot"
          ],
          [
           "Restaurant365"
          ],
          [
           "Blueground"
          ],
          [
           "Knotel"
          ],
          [
           "Getaround"
          ],
          [
           "Zipcar"
          ],
          [
           "Mogo"
          ],
          [
           "DISCO"
          ],
          [
           "Raken"
          ],
          [
           "Bench"
          ],
          [
           "Loft"
          ],
          [
           "Oh My Green"
          ],
          [
           "Bevi"
          ],
          [
           "Textio"
          ],
          [
           "Opal"
          ],
          [
           "ThirdLove"
          ],
          [
           "B8ta"
          ],
          [
           "Puppet"
          ],
          [
           "Ecobee"
          ],
          [
           "Passport"
          ],
          [
           "Peerspace"
          ],
          [
           "GoSpotCheck"
          ],
          [
           "Consider.co"
          ],
          [
           "TripActions"
          ],
          [
           "Lyric"
          ],
          [
           "WanderJaunt"
          ],
          [
           "OutboundEngine"
          ],
          [
           "Wonderschool"
          ],
          [
           "Overtime"
          ],
          [
           "Jama"
          ],
          [
           "Element Analytics"
          ],
          [
           "Sonder"
          ],
          [
           "Foodsby"
          ],
          [
           "Zeus Living"
          ],
          [
           "TravelBank"
          ],
          [
           "Compass"
          ],
          [
           "Convene"
          ],
          [
           "Leafly"
          ],
          [
           "The Guild"
          ],
          [
           "GrayMeta"
          ],
          [
           "Triplebyte"
          ],
          [
           "Ladder Life"
          ],
          [
           "Flywheel Sports"
          ],
          [
           "Peek"
          ],
          [
           "CTO.ai"
          ],
          [
           "Yonder"
          ],
          [
           "Bounce"
          ],
          [
           "Remote Year"
          ],
          [
           "Lola"
          ],
          [
           "Flytedesk"
          ],
          [
           "Inspirato"
          ],
          [
           "Help.com"
          ],
          [
           "HopSkipDrive"
          ],
          [
           "Panda Squad"
          ],
          [
           "Tamara Mellon"
          ],
          [
           "EasyPost"
          ]
         ],
         "hovertemplate": "% company have laid off %{y} employees have raised <b>%{x}</b> Mio USD",
         "legendgroup": "",
         "marker": {
          "color": "#F8766D",
          "symbol": "circle"
         },
         "mode": "markers",
         "name": "",
         "showlegend": false,
         "type": "scattergl",
         "x": [
          87,
          1700,
          17,
          3,
          92,
          1000,
          804,
          914,
          1600,
          2100,
          208,
          472,
          281,
          54,
          281,
          73,
          278,
          108,
          2,
          889,
          235,
          452,
          56,
          436,
          2000,
          453,
          507,
          1700,
          154,
          28,
          256,
          164,
          28,
          791,
          200,
          405,
          90,
          240,
          347,
          347,
          409,
          212,
          100,
          6,
          597,
          1300,
          1500,
          119,
          549,
          326,
          18,
          11,
          26000,
          320,
          310,
          686,
          527,
          6,
          165,
          20,
          244,
          257,
          65,
          838,
          85,
          280,
          30,
          148,
          12900,
          1500,
          5,
          180,
          60,
          2300,
          4900,
          428,
          8300,
          154,
          1900,
          2300,
          468,
          607,
          92,
          188,
          103,
          144,
          148,
          377,
          477,
          300,
          56,
          568,
          213,
          11,
          85,
          17,
          35,
          163,
          277,
          328,
          114,
          97,
          750,
          553,
          142,
          15,
          462,
          849,
          214,
          86,
          36,
          138,
          30,
          4,
          127,
          151,
          203,
          5,
          3400,
          177,
          88,
          1700,
          71,
          189,
          235,
          122,
          65,
          10,
          5500,
          426,
          17,
          657,
          450,
          1500,
          217,
          20,
          235,
          2,
          367,
          1100,
          103,
          315,
          585,
          30,
          156,
          1900,
          347,
          1900,
          29,
          35,
          8,
          237,
          173,
          536,
          180,
          706,
          150,
          166,
          474,
          1400,
          3700,
          1,
          1600,
          8,
          190,
          244,
          5000,
          75,
          140,
          271,
          42,
          126,
          67,
          614,
          137,
          604,
          121900,
          445,
          1800,
          445,
          413,
          28,
          81,
          17,
          6,
          145,
          413,
          686,
          120,
          120,
          173,
          749,
          24700,
          172,
          240,
          469,
          143,
          42,
          41,
          91,
          250,
          379,
          122,
          95,
          67,
          4900,
          910,
          188,
          1300,
          496,
          44,
          169,
          212,
          123,
          47,
          1100,
          44,
          974,
          1200,
          78,
          280,
          117,
          24,
          646,
          472,
          91,
          114,
          3,
          1,
          21,
          187,
          1700,
          2300,
          214,
          215,
          80,
          74,
          104,
          293,
          205,
          11,
          791,
          665,
          380,
          15,
          1900,
          255,
          218,
          201,
          42,
          204,
          26,
          40,
          105,
          75,
          300,
          1100,
          533,
          58,
          338,
          504,
          165,
          114,
          237,
          102,
          1400,
          507,
          1300,
          535,
          188,
          76,
          30,
          163,
          28,
          42,
          679,
          652,
          242,
          166,
          85,
          20,
          163,
          44,
          244,
          39,
          122,
          39,
          5600,
          342,
          292,
          107,
          175,
          489,
          26,
          71,
          26,
          75,
          266,
          58,
          18,
          15,
          5000,
          681,
          229,
          58,
          65,
          11,
          405,
          51,
          510,
          130,
          202,
          1,
          10700,
          307,
          98,
          60,
          122,
          214,
          111,
          41,
          394,
          22,
          279,
          974,
          409,
          18,
          69,
          58,
          15,
          328,
          490,
          404,
          329,
          72,
          42,
          2800,
          310,
          992,
          48,
          4900,
          125,
          51,
          159,
          58,
          1,
          2000,
          856,
          323,
          766,
          200,
          423,
          245,
          31,
          817,
          265,
          27,
          202,
          115,
          7,
          240,
          292,
          450,
          336,
          89,
          64,
          23,
          120,
          2100,
          3400,
          63,
          1100,
          153,
          1000,
          174,
          74,
          184,
          50,
          127,
          3600,
          881,
          20,
          78,
          496,
          122,
          64,
          77,
          788,
          194,
          322,
          569,
          240,
          300,
          583,
          28,
          71,
          335,
          69,
          90,
          1300,
          864,
          26,
          300,
          169,
          310,
          3,
          480,
          47,
          849,
          58,
          22,
          106,
          112,
          1300,
          770,
          811,
          347,
          153,
          8,
          13,
          25,
          13,
          82,
          2,
          11,
          690,
          163,
          690,
          71,
          250,
          20,
          1600,
          2000,
          1500,
          999,
          13,
          61,
          106,
          546,
          124,
          137,
          406,
          121900,
          500,
          19,
          159,
          10,
          461,
          410,
          171,
          410,
          429,
          261,
          515,
          51,
          134,
          460,
          279,
          40,
          248,
          7,
          1000,
          12,
          27,
          145,
          112,
          30,
          838,
          9400,
          646,
          49,
          430,
          178,
          1600,
          169,
          900,
          863,
          213,
          65,
          83,
          7,
          223,
          20,
          549,
          319,
          1600,
          36,
          6,
          6,
          204,
          1000,
          65,
          50,
          156,
          150,
          1000,
          11,
          133,
          175,
          926,
          79,
          1100,
          82,
          56,
          5,
          61,
          100,
          839,
          1600,
          255,
          26,
          2000,
          2000,
          172,
          149,
          783,
          275,
          11,
          681,
          603,
          1200,
          108,
          176,
          522,
          31,
          286,
          3,
          423,
          325,
          76,
          28,
          197,
          750,
          2,
          250,
          182,
          203,
          136,
          32,
          202,
          85,
          110,
          49,
          26,
          132,
          375,
          50,
          17,
          23,
          118,
          365,
          378,
          749,
          1900,
          1300,
          121,
          53,
          42,
          70,
          1300,
          20,
          256,
          3700,
          216,
          11,
          16,
          537,
          33,
          97,
          342,
          174,
          287,
          1300,
          292,
          121900,
          568,
          195,
          29,
          60,
          209,
          130,
          619,
          37,
          1000,
          1600,
          679,
          238,
          342,
          1300,
          1500,
          292,
          192,
          20,
          3,
          41,
          165,
          64,
          7,
          128,
          45,
          657,
          130,
          121900,
          5600,
          27,
          58,
          917,
          502,
          481,
          665,
          755,
          788,
          4,
          9,
          329,
          1100,
          176,
          838,
          16,
          752,
          3,
          8600,
          40,
          3400,
          22,
          228,
          275,
          19,
          62,
          654,
          905,
          406,
          289,
          1400,
          1600,
          85,
          24,
          368,
          28,
          118,
          35,
          1000,
          1900,
          133,
          3400,
          266,
          527,
          8300,
          905,
          46,
          97,
          356,
          974,
          12,
          1000,
          14,
          9400,
          17,
          1600,
          122,
          165,
          214.5,
          37,
          194,
          214.2,
          305,
          1200,
          39,
          61,
          7400,
          150,
          763,
          2400,
          20,
          1700,
          11,
          131,
          352,
          3200,
          3,
          45,
          3.8,
          12.5,
          560,
          8,
          656,
          28,
          356,
          157.9,
          40.5,
          67,
          95.2,
          97,
          548,
          65.4,
          36,
          15.5,
          122.3,
          2.3,
          0.9755,
          186.4,
          53,
          20,
          42.4,
          649,
          1600,
          60.18,
          309,
          154,
          15,
          404.6,
          251.2,
          197.2,
          56,
          70,
          307,
          25.6,
          746,
          117,
          38,
          19,
          57.8,
          100.8,
          1300,
          214.2,
          3600,
          101.6,
          214.5,
          455.2,
          4800,
          103,
          3,
          18,
          19500,
          32,
          582,
          496,
          9900,
          40,
          50,
          24700,
          50,
          2,
          39.6,
          139,
          106,
          52,
          29,
          324,
          1,
          117,
          120,
          55,
          3100,
          453,
          58,
          10,
          79,
          548,
          24,
          732,
          17,
          224,
          340,
          19,
          157,
          7,
          89,
          30,
          24700,
          108,
          207,
          247,
          146,
          3,
          30,
          3800,
          530,
          62,
          2500,
          222,
          240,
          157,
          88,
          24700,
          1600,
          19500,
          553,
          300,
          914,
          200,
          49,
          5300,
          116,
          73,
          69,
          80,
          2,
          10,
          46,
          79,
          77,
          52,
          104,
          837,
          133,
          782,
          11,
          204,
          78,
          263,
          145,
          92,
          24700,
          15,
          60,
          283,
          5400,
          1500,
          181,
          68,
          90,
          84,
          404,
          771,
          175,
          7,
          257,
          106,
          11,
          386,
          46,
          2400,
          217,
          102,
          82,
          10,
          80,
          28,
          32,
          156,
          4900,
          2250,
          229,
          89,
          765,
          128,
          3,
          1500,
          156,
          70,
          71,
          2,
          840,
          24,
          2400,
          17,
          88,
          60,
          7,
          15,
          30,
          29,
          12,
          2,
          160,
          583,
          274,
          1300,
          68,
          2600,
          24,
          52,
          1600,
          2200,
          392,
          613,
          339,
          42,
          75,
          165,
          48,
          84,
          521,
          10,
          58,
          38,
          1,
          71,
          50,
          100,
          293,
          37,
          110,
          335,
          263,
          307,
          34,
          478,
          100,
          1,
          1,
          42,
          76,
          1500,
          288,
          19,
          423,
          447,
          160,
          72,
          40,
          51,
          34,
          358,
          224,
          59,
          90,
          132,
          190,
          5,
          1400,
          955,
          120,
          12,
          119,
          185,
          3,
          14,
          29,
          85,
          35,
          1,
          56,
          324,
          410,
          26,
          689,
          114,
          59,
          28,
          137.5,
          32,
          332,
          215,
          95,
          40,
          72,
          91,
          64,
          40,
          65,
          106,
          23,
          16,
          26,
          902,
          319,
          438,
          319,
          367,
          85,
          175,
          181,
          607,
          190,
          99,
          293,
          0.7,
          75,
          28,
          92,
          21,
          72,
          50,
          100,
          348,
          300,
          162,
          297,
          225,
          955,
          35,
          97,
          40,
          247,
          80,
          80,
          24,
          14,
          4,
          114,
          1200,
          112,
          549,
          109,
          167,
          222,
          253,
          68,
          152,
          65,
          122,
          118,
          102,
          114,
          50,
          151,
          40,
          16,
          2,
          8,
          6,
          48,
          75,
          159,
          8.5,
          190,
          52,
          143,
          100,
          16,
          11,
          50,
          46,
          15,
          227,
          89,
          310,
          467,
          69,
          55,
          26,
          91,
          26,
          423,
          423,
          48,
          45,
          110,
          77,
          110,
          82,
          18,
          75,
          15,
          219,
          25,
          13,
          47,
          2250,
          3000,
          623,
          95,
          18,
          430,
          127,
          77,
          560,
          403,
          107,
          201,
          133,
          12,
          49,
          263,
          20,
          60,
          41,
          25,
          68,
          88,
          149,
          149,
          123,
          34,
          47,
          5,
          981,
          179.1,
          26,
          48,
          24,
          35,
          233,
          22,
          359,
          20,
          79,
          35,
          1600,
          280,
          2,
          36,
          7,
          48,
          94,
          120,
          39,
          7,
          16,
          214,
          17,
          81,
          4,
          79,
          6,
          45,
          1,
          90,
          12
         ],
         "xaxis": "x",
         "y": [
          25,
          150,
          100,
          20,
          160,
          80,
          93,
          100,
          1500,
          300,
          200,
          180,
          72,
          58,
          37,
          34,
          15,
          10000,
          4100,
          200,
          120,
          90,
          76,
          70,
          241,
          180,
          170,
          120,
          71,
          50,
          50,
          31,
          500,
          500,
          300,
          170,
          143,
          124,
          90,
          90,
          59,
          51,
          40,
          30,
          100,
          1300,
          400,
          65,
          60,
          45,
          40,
          20,
          11000,
          862,
          300,
          144,
          137,
          130,
          80,
          36,
          35,
          65,
          1000,
          350,
          350,
          190,
          110,
          25,
          3700,
          350,
          200,
          70,
          59,
          1000,
          700,
          150,
          100,
          60,
          550,
          156,
          142,
          134,
          100,
          100,
          50,
          140,
          100,
          70,
          70,
          50,
          24,
          300,
          60,
          30,
          25,
          23,
          100,
          210,
          84,
          13,
          400,
          300,
          200,
          150,
          30,
          17,
          400,
          198,
          100,
          62,
          23,
          120,
          43,
          30,
          227,
          64,
          23,
          20,
          250,
          32,
          20,
          84,
          56,
          50,
          24,
          200,
          90,
          65,
          2500,
          150,
          130,
          500,
          200,
          136,
          100,
          80,
          55,
          35,
          611,
          180,
          96,
          67,
          120,
          85,
          2000,
          500,
          110,
          50,
          50,
          40,
          78,
          125,
          40,
          671,
          40,
          180,
          70,
          26,
          24,
          110,
          100,
          100,
          271,
          109,
          78,
          75,
          200,
          29,
          190,
          40,
          193,
          70,
          35,
          800,
          59,
          50,
          30,
          160,
          100,
          100,
          80,
          60,
          25,
          11,
          350,
          58,
          5,
          200,
          55,
          23,
          150,
          60,
          60,
          50,
          49,
          45,
          27,
          40,
          30,
          23,
          100,
          90,
          70,
          55,
          12,
          1280,
          140,
          100,
          70,
          45,
          40,
          29,
          81,
          38,
          30,
          300,
          95,
          80,
          24,
          20,
          40,
          140,
          15,
          180,
          138,
          50,
          31,
          29,
          100,
          55,
          13,
          870,
          50,
          110,
          35,
          125,
          54,
          50,
          80,
          12,
          5,
          250,
          220,
          16,
          11,
          784,
          175,
          90,
          60,
          54,
          30,
          7,
          47,
          30,
          800,
          400,
          270,
          130,
          100,
          60,
          60,
          50,
          48,
          40,
          12,
          500,
          500,
          337,
          63,
          36,
          20,
          140,
          70,
          50,
          31,
          250,
          200,
          100,
          80,
          80,
          73,
          70,
          50,
          149,
          47,
          40,
          13,
          713,
          115,
          100,
          90,
          80,
          60,
          54,
          40,
          30,
          23,
          19,
          58,
          75,
          16,
          1000,
          125,
          50,
          43,
          40,
          22,
          136,
          60,
          60,
          45,
          23,
          22,
          840,
          39,
          30,
          30,
          1000,
          90,
          60,
          40,
          38,
          23,
          20,
          80,
          25,
          120,
          50,
          45,
          28,
          15,
          150,
          95,
          63,
          60,
          11,
          390,
          200,
          75,
          60,
          60,
          57,
          30,
          23,
          15,
          13,
          1000,
          450,
          38,
          28,
          94,
          68,
          30,
          100,
          63,
          24,
          23,
          85,
          54,
          42,
          39,
          300,
          262,
          120,
          100,
          100,
          70,
          12,
          7,
          1500,
          150,
          100,
          45,
          242,
          63,
          24,
          1500,
          1000,
          156,
          150,
          150,
          40,
          30,
          100,
          50,
          35,
          30,
          384,
          120,
          100,
          80,
          31,
          30,
          27,
          20,
          13,
          80,
          27,
          18,
          540,
          150,
          85,
          58,
          15,
          400,
          170,
          40,
          30,
          30,
          20,
          14,
          12,
          350,
          200,
          85,
          80,
          80,
          76,
          60,
          40,
          18,
          16,
          13,
          300,
          300,
          120,
          110,
          80,
          50,
          30,
          18,
          300,
          210,
          180,
          170,
          70,
          27,
          43,
          270,
          90,
          41,
          40,
          300,
          70,
          22,
          15,
          8,
          120,
          90,
          70,
          55,
          50,
          35,
          35,
          30,
          23,
          340,
          52,
          40,
          24,
          101,
          100,
          80,
          30,
          30,
          191,
          9,
          150,
          150,
          69,
          16,
          50,
          45,
          40,
          250,
          159,
          150,
          110,
          60,
          23,
          15,
          14,
          10,
          1100,
          470,
          450,
          75,
          50,
          30,
          24,
          250,
          56,
          33,
          260,
          250,
          100,
          60,
          45,
          20,
          950,
          330,
          90,
          80,
          70,
          40,
          31,
          26,
          250,
          150,
          150,
          50,
          750,
          750,
          180,
          150,
          138,
          130,
          40,
          60,
          50,
          40,
          23,
          21,
          250,
          170,
          170,
          140,
          100,
          59,
          30,
          29,
          25,
          100,
          100,
          90,
          65,
          34,
          31,
          30,
          25,
          50,
          44,
          30,
          12,
          400,
          100,
          100,
          145,
          40,
          29,
          200,
          80,
          80,
          300,
          240,
          75,
          50,
          45,
          30,
          300,
          200,
          40,
          700,
          83,
          80,
          65,
          60,
          30,
          600,
          130,
          87,
          70,
          600,
          424,
          150,
          100,
          90,
          100,
          400,
          24,
          22,
          150,
          32,
          70,
          2500,
          310,
          200,
          30,
          270,
          750,
          200,
          90,
          72,
          300,
          97,
          87,
          45,
          40,
          25,
          500,
          495,
          150,
          25,
          340,
          29,
          22,
          180,
          260,
          52,
          200,
          160,
          159,
          10,
          44,
          100,
          150,
          20,
          1000,
          70,
          450,
          23,
          350,
          59,
          450,
          100,
          180,
          100,
          150,
          300,
          115,
          3000,
          100,
          100,
          500,
          190,
          30,
          150,
          111,
          120,
          100,
          119,
          138,
          2800,
          57,
          100,
          80,
          330,
          300,
          900,
          70,
          2000,
          22,
          120,
          41,
          30,
          37,
          1800,
          80,
          2434,
          65,
          36,
          160,
          47,
          200,
          200,
          243,
          80,
          87,
          45,
          1800,
          20,
          180,
          1877,
          21,
          315,
          1800,
          120,
          54,
          600,
          5,
          154,
          30,
          82,
          20,
          8,
          90,
          250,
          47,
          240,
          20,
          30,
          250,
          22,
          350,
          1000,
          30,
          8,
          30,
          250,
          20,
          150,
          75,
          56,
          87,
          180,
          350,
          75,
          64,
          960,
          22,
          120,
          60,
          300,
          63,
          140,
          100,
          40,
          85,
          56,
          18,
          12,
          5,
          17,
          400,
          130,
          100,
          61,
          20,
          174,
          430,
          90,
          6,
          715,
          200,
          15,
          40,
          1500,
          360,
          70,
          44,
          225,
          63,
          3,
          26,
          46,
          18,
          50,
          39,
          120,
          70,
          40,
          22,
          100,
          40,
          14,
          12,
          12,
          1400,
          350,
          24,
          62,
          32,
          270,
          219,
          200,
          36,
          20,
          150,
          62,
          600,
          137,
          50,
          200,
          400,
          70,
          18,
          1400,
          300,
          221,
          112,
          101,
          39,
          450,
          69,
          3000,
          1100,
          100,
          57,
          250,
          520,
          500,
          16,
          150,
          70,
          35,
          30,
          669,
          51,
          25,
          17,
          73,
          65,
          36,
          16,
          60,
          28,
          9,
          500,
          300,
          62,
          60,
          55,
          28,
          3700,
          100,
          50,
          50,
          1900,
          900,
          135,
          40,
          31,
          25,
          800,
          536,
          400,
          63,
          62,
          60,
          11,
          120,
          50,
          150,
          110,
          95,
          80,
          70,
          35,
          26,
          100,
          81,
          982,
          300,
          160,
          124,
          80,
          24,
          900,
          367,
          80,
          35,
          27,
          20,
          260,
          20,
          500,
          30,
          57,
          36,
          19,
          18,
          15,
          10,
          6,
          4,
          100,
          87,
          80,
          70,
          6,
          1000,
          55,
          10,
          800,
          500,
          460,
          155,
          78,
          40,
          38,
          30,
          19,
          10,
          300,
          91,
          90,
          90,
          33,
          28,
          23,
          10,
          200,
          140,
          120,
          88,
          47,
          44,
          40,
          35,
          30,
          13,
          130,
          65,
          60,
          600,
          200,
          200,
          200,
          161,
          100,
          40,
          15,
          14,
          13,
          235,
          131,
          58,
          45,
          21,
          15,
          10,
          2800,
          100,
          70,
          50,
          17,
          201,
          35,
          30,
          28,
          20,
          16,
          6,
          1000,
          165,
          150,
          136,
          90,
          90,
          40,
          36,
          25,
          8,
          500,
          200,
          92,
          89,
          86,
          80,
          48,
          40,
          30,
          21,
          18,
          11,
          4,
          1300,
          400,
          340,
          236,
          100,
          87,
          65,
          60,
          53,
          50,
          30,
          100,
          100,
          77,
          26,
          24,
          23,
          15,
          10,
          40,
          50,
          467,
          300,
          147,
          140,
          120,
          75,
          60,
          35,
          34,
          24,
          19,
          18,
          17,
          12,
          700,
          240,
          196,
          154,
          100,
          100,
          90,
          70,
          65,
          60,
          59,
          40,
          39,
          35,
          35,
          30,
          30,
          26,
          23,
          7,
          6,
          5,
          200,
          100,
          52,
          51,
          50,
          46,
          45,
          24,
          20,
          18,
          17,
          15,
          9,
          349,
          210,
          194,
          108,
          65,
          40,
          20,
          17,
          5,
          250,
          120,
          80,
          70,
          51,
          31,
          30,
          30,
          25,
          20,
          9,
          400,
          17,
          10,
          250,
          250,
          451,
          406,
          250,
          227,
          200,
          175,
          130,
          127,
          100,
          100,
          78,
          75,
          60,
          47,
          47,
          40,
          30,
          30,
          20,
          10,
          250,
          50,
          47,
          44,
          41,
          23,
          13,
          300,
          100,
          56,
          52,
          50,
          30,
          12,
          10,
          400,
          87,
          80,
          20,
          375,
          150,
          91,
          38,
          20,
          15,
          13,
          784,
          45,
          30,
          18,
          120,
          50,
          34,
          4,
          130,
          16,
          8,
          6,
          20,
          75
         ],
         "yaxis": "y"
        }
       ],
       "layout": {
        "legend": {
         "tracegroupgap": 0
        },
        "template": {
         "data": {
          "bar": [
           {
            "error_x": {
             "color": "rgb(51,51,51)"
            },
            "error_y": {
             "color": "rgb(51,51,51)"
            },
            "marker": {
             "line": {
              "color": "rgb(237,237,237)",
              "width": 0.5
             },
             "pattern": {
              "fillmode": "overlay",
              "size": 10,
              "solidity": 0.2
             }
            },
            "type": "bar"
           }
          ],
          "barpolar": [
           {
            "marker": {
             "line": {
              "color": "rgb(237,237,237)",
              "width": 0.5
             },
             "pattern": {
              "fillmode": "overlay",
              "size": 10,
              "solidity": 0.2
             }
            },
            "type": "barpolar"
           }
          ],
          "carpet": [
           {
            "aaxis": {
             "endlinecolor": "rgb(51,51,51)",
             "gridcolor": "white",
             "linecolor": "white",
             "minorgridcolor": "white",
             "startlinecolor": "rgb(51,51,51)"
            },
            "baxis": {
             "endlinecolor": "rgb(51,51,51)",
             "gridcolor": "white",
             "linecolor": "white",
             "minorgridcolor": "white",
             "startlinecolor": "rgb(51,51,51)"
            },
            "type": "carpet"
           }
          ],
          "choropleth": [
           {
            "colorbar": {
             "outlinewidth": 0,
             "tickcolor": "rgb(237,237,237)",
             "ticklen": 6,
             "ticks": "inside"
            },
            "type": "choropleth"
           }
          ],
          "contour": [
           {
            "colorbar": {
             "outlinewidth": 0,
             "tickcolor": "rgb(237,237,237)",
             "ticklen": 6,
             "ticks": "inside"
            },
            "colorscale": [
             [
              0,
              "rgb(20,44,66)"
             ],
             [
              1,
              "rgb(90,179,244)"
             ]
            ],
            "type": "contour"
           }
          ],
          "contourcarpet": [
           {
            "colorbar": {
             "outlinewidth": 0,
             "tickcolor": "rgb(237,237,237)",
             "ticklen": 6,
             "ticks": "inside"
            },
            "type": "contourcarpet"
           }
          ],
          "heatmap": [
           {
            "colorbar": {
             "outlinewidth": 0,
             "tickcolor": "rgb(237,237,237)",
             "ticklen": 6,
             "ticks": "inside"
            },
            "colorscale": [
             [
              0,
              "rgb(20,44,66)"
             ],
             [
              1,
              "rgb(90,179,244)"
             ]
            ],
            "type": "heatmap"
           }
          ],
          "heatmapgl": [
           {
            "colorbar": {
             "outlinewidth": 0,
             "tickcolor": "rgb(237,237,237)",
             "ticklen": 6,
             "ticks": "inside"
            },
            "colorscale": [
             [
              0,
              "rgb(20,44,66)"
             ],
             [
              1,
              "rgb(90,179,244)"
             ]
            ],
            "type": "heatmapgl"
           }
          ],
          "histogram": [
           {
            "marker": {
             "pattern": {
              "fillmode": "overlay",
              "size": 10,
              "solidity": 0.2
             }
            },
            "type": "histogram"
           }
          ],
          "histogram2d": [
           {
            "colorbar": {
             "outlinewidth": 0,
             "tickcolor": "rgb(237,237,237)",
             "ticklen": 6,
             "ticks": "inside"
            },
            "colorscale": [
             [
              0,
              "rgb(20,44,66)"
             ],
             [
              1,
              "rgb(90,179,244)"
             ]
            ],
            "type": "histogram2d"
           }
          ],
          "histogram2dcontour": [
           {
            "colorbar": {
             "outlinewidth": 0,
             "tickcolor": "rgb(237,237,237)",
             "ticklen": 6,
             "ticks": "inside"
            },
            "colorscale": [
             [
              0,
              "rgb(20,44,66)"
             ],
             [
              1,
              "rgb(90,179,244)"
             ]
            ],
            "type": "histogram2dcontour"
           }
          ],
          "mesh3d": [
           {
            "colorbar": {
             "outlinewidth": 0,
             "tickcolor": "rgb(237,237,237)",
             "ticklen": 6,
             "ticks": "inside"
            },
            "type": "mesh3d"
           }
          ],
          "parcoords": [
           {
            "line": {
             "colorbar": {
              "outlinewidth": 0,
              "tickcolor": "rgb(237,237,237)",
              "ticklen": 6,
              "ticks": "inside"
             }
            },
            "type": "parcoords"
           }
          ],
          "pie": [
           {
            "automargin": true,
            "type": "pie"
           }
          ],
          "scatter": [
           {
            "marker": {
             "colorbar": {
              "outlinewidth": 0,
              "tickcolor": "rgb(237,237,237)",
              "ticklen": 6,
              "ticks": "inside"
             }
            },
            "type": "scatter"
           }
          ],
          "scatter3d": [
           {
            "line": {
             "colorbar": {
              "outlinewidth": 0,
              "tickcolor": "rgb(237,237,237)",
              "ticklen": 6,
              "ticks": "inside"
             }
            },
            "marker": {
             "colorbar": {
              "outlinewidth": 0,
              "tickcolor": "rgb(237,237,237)",
              "ticklen": 6,
              "ticks": "inside"
             }
            },
            "type": "scatter3d"
           }
          ],
          "scattercarpet": [
           {
            "marker": {
             "colorbar": {
              "outlinewidth": 0,
              "tickcolor": "rgb(237,237,237)",
              "ticklen": 6,
              "ticks": "inside"
             }
            },
            "type": "scattercarpet"
           }
          ],
          "scattergeo": [
           {
            "marker": {
             "colorbar": {
              "outlinewidth": 0,
              "tickcolor": "rgb(237,237,237)",
              "ticklen": 6,
              "ticks": "inside"
             }
            },
            "type": "scattergeo"
           }
          ],
          "scattergl": [
           {
            "marker": {
             "colorbar": {
              "outlinewidth": 0,
              "tickcolor": "rgb(237,237,237)",
              "ticklen": 6,
              "ticks": "inside"
             }
            },
            "type": "scattergl"
           }
          ],
          "scattermapbox": [
           {
            "marker": {
             "colorbar": {
              "outlinewidth": 0,
              "tickcolor": "rgb(237,237,237)",
              "ticklen": 6,
              "ticks": "inside"
             }
            },
            "type": "scattermapbox"
           }
          ],
          "scatterpolar": [
           {
            "marker": {
             "colorbar": {
              "outlinewidth": 0,
              "tickcolor": "rgb(237,237,237)",
              "ticklen": 6,
              "ticks": "inside"
             }
            },
            "type": "scatterpolar"
           }
          ],
          "scatterpolargl": [
           {
            "marker": {
             "colorbar": {
              "outlinewidth": 0,
              "tickcolor": "rgb(237,237,237)",
              "ticklen": 6,
              "ticks": "inside"
             }
            },
            "type": "scatterpolargl"
           }
          ],
          "scatterternary": [
           {
            "marker": {
             "colorbar": {
              "outlinewidth": 0,
              "tickcolor": "rgb(237,237,237)",
              "ticklen": 6,
              "ticks": "inside"
             }
            },
            "type": "scatterternary"
           }
          ],
          "surface": [
           {
            "colorbar": {
             "outlinewidth": 0,
             "tickcolor": "rgb(237,237,237)",
             "ticklen": 6,
             "ticks": "inside"
            },
            "colorscale": [
             [
              0,
              "rgb(20,44,66)"
             ],
             [
              1,
              "rgb(90,179,244)"
             ]
            ],
            "type": "surface"
           }
          ],
          "table": [
           {
            "cells": {
             "fill": {
              "color": "rgb(237,237,237)"
             },
             "line": {
              "color": "white"
             }
            },
            "header": {
             "fill": {
              "color": "rgb(217,217,217)"
             },
             "line": {
              "color": "white"
             }
            },
            "type": "table"
           }
          ]
         },
         "layout": {
          "annotationdefaults": {
           "arrowhead": 0,
           "arrowwidth": 1
          },
          "autotypenumbers": "strict",
          "coloraxis": {
           "colorbar": {
            "outlinewidth": 0,
            "tickcolor": "rgb(237,237,237)",
            "ticklen": 6,
            "ticks": "inside"
           }
          },
          "colorscale": {
           "sequential": [
            [
             0,
             "rgb(20,44,66)"
            ],
            [
             1,
             "rgb(90,179,244)"
            ]
           ],
           "sequentialminus": [
            [
             0,
             "rgb(20,44,66)"
            ],
            [
             1,
             "rgb(90,179,244)"
            ]
           ]
          },
          "colorway": [
           "#F8766D",
           "#A3A500",
           "#00BF7D",
           "#00B0F6",
           "#E76BF3"
          ],
          "font": {
           "color": "rgb(51,51,51)"
          },
          "geo": {
           "bgcolor": "white",
           "lakecolor": "white",
           "landcolor": "rgb(237,237,237)",
           "showlakes": true,
           "showland": true,
           "subunitcolor": "white"
          },
          "hoverlabel": {
           "align": "left"
          },
          "hovermode": "closest",
          "paper_bgcolor": "white",
          "plot_bgcolor": "rgb(237,237,237)",
          "polar": {
           "angularaxis": {
            "gridcolor": "white",
            "linecolor": "white",
            "showgrid": true,
            "tickcolor": "rgb(51,51,51)",
            "ticks": "outside"
           },
           "bgcolor": "rgb(237,237,237)",
           "radialaxis": {
            "gridcolor": "white",
            "linecolor": "white",
            "showgrid": true,
            "tickcolor": "rgb(51,51,51)",
            "ticks": "outside"
           }
          },
          "scene": {
           "xaxis": {
            "backgroundcolor": "rgb(237,237,237)",
            "gridcolor": "white",
            "gridwidth": 2,
            "linecolor": "white",
            "showbackground": true,
            "showgrid": true,
            "tickcolor": "rgb(51,51,51)",
            "ticks": "outside",
            "zerolinecolor": "white"
           },
           "yaxis": {
            "backgroundcolor": "rgb(237,237,237)",
            "gridcolor": "white",
            "gridwidth": 2,
            "linecolor": "white",
            "showbackground": true,
            "showgrid": true,
            "tickcolor": "rgb(51,51,51)",
            "ticks": "outside",
            "zerolinecolor": "white"
           },
           "zaxis": {
            "backgroundcolor": "rgb(237,237,237)",
            "gridcolor": "white",
            "gridwidth": 2,
            "linecolor": "white",
            "showbackground": true,
            "showgrid": true,
            "tickcolor": "rgb(51,51,51)",
            "ticks": "outside",
            "zerolinecolor": "white"
           }
          },
          "shapedefaults": {
           "fillcolor": "black",
           "line": {
            "width": 0
           },
           "opacity": 0.3
          },
          "ternary": {
           "aaxis": {
            "gridcolor": "white",
            "linecolor": "white",
            "showgrid": true,
            "tickcolor": "rgb(51,51,51)",
            "ticks": "outside"
           },
           "baxis": {
            "gridcolor": "white",
            "linecolor": "white",
            "showgrid": true,
            "tickcolor": "rgb(51,51,51)",
            "ticks": "outside"
           },
           "bgcolor": "rgb(237,237,237)",
           "caxis": {
            "gridcolor": "white",
            "linecolor": "white",
            "showgrid": true,
            "tickcolor": "rgb(51,51,51)",
            "ticks": "outside"
           }
          },
          "xaxis": {
           "automargin": true,
           "gridcolor": "white",
           "linecolor": "white",
           "showgrid": true,
           "tickcolor": "rgb(51,51,51)",
           "ticks": "outside",
           "title": {
            "standoff": 15
           },
           "zerolinecolor": "white"
          },
          "yaxis": {
           "automargin": true,
           "gridcolor": "white",
           "linecolor": "white",
           "showgrid": true,
           "tickcolor": "rgb(51,51,51)",
           "ticks": "outside",
           "title": {
            "standoff": 15
           },
           "zerolinecolor": "white"
          }
         }
        },
        "title": {
         "text": "There is a positive, albeit weak correlation between log of funds raised by companies and number of people laid off"
        },
        "xaxis": {
         "anchor": "y",
         "domain": [
          0,
          1
         ],
         "title": {
          "text": "Log(funds raised)"
         },
         "type": "log"
        },
        "yaxis": {
         "anchor": "x",
         "domain": [
          0,
          1
         ],
         "title": {
          "text": "Number of people laid off"
         }
        }
       }
      }
     },
     "metadata": {},
     "output_type": "display_data"
    }
   ],
   "source": [
    "sketer = px.scatter(df[(df['total_laid_off'] != 0) & (df['funds_raised'] != 0)], 'funds_raised', 'total_laid_off',\n",
    "          template='ggplot2', log_x=True, hover_data=['company'],\n",
    "          title = 'There is a positive, albeit weak correlation between log of funds raised by companies and number of people laid off',\n",
    "          labels= {'funds_raised': 'Log(funds raised)', 'total_laid_off':'Number of people laid off'})\n",
    "sketer.update_traces(hovertemplate='% company have laid off %{y} employees have raised <b>%{x}</b> Mio USD')"
   ]
  },
  {
   "cell_type": "code",
   "execution_count": 75,
   "id": "2332a122",
   "metadata": {},
   "outputs": [
    {
     "data": {
      "application/vnd.plotly.v1+json": {
       "config": {
        "plotlyServerURL": "https://plot.ly"
       },
       "data": [
        {
         "alignmentgroup": "True",
         "hovertemplate": "Number of people laid off=%{x}<br>City=%{y}<extra></extra>",
         "legendgroup": "",
         "marker": {
          "color": "#F8766D",
          "pattern": {
           "shape": ""
          }
         },
         "name": "",
         "offsetgroup": "",
         "orientation": "h",
         "showlegend": false,
         "textposition": "auto",
         "type": "bar",
         "x": [
          5139,
          5410,
          5525,
          5553,
          6025,
          7246,
          16051,
          16545,
          21391,
          76135
         ],
         "xaxis": "x",
         "y": [
          "Chicago",
          "Los Angeles",
          "Mumbai",
          "Singapore",
          "Sao Paulo",
          "Boston",
          "Seattle",
          "Bengaluru",
          "New York City",
          "SF Bay Area"
         ],
         "yaxis": "y"
        }
       ],
       "layout": {
        "barmode": "relative",
        "legend": {
         "tracegroupgap": 0
        },
        "template": {
         "data": {
          "bar": [
           {
            "error_x": {
             "color": "rgb(51,51,51)"
            },
            "error_y": {
             "color": "rgb(51,51,51)"
            },
            "marker": {
             "line": {
              "color": "rgb(237,237,237)",
              "width": 0.5
             },
             "pattern": {
              "fillmode": "overlay",
              "size": 10,
              "solidity": 0.2
             }
            },
            "type": "bar"
           }
          ],
          "barpolar": [
           {
            "marker": {
             "line": {
              "color": "rgb(237,237,237)",
              "width": 0.5
             },
             "pattern": {
              "fillmode": "overlay",
              "size": 10,
              "solidity": 0.2
             }
            },
            "type": "barpolar"
           }
          ],
          "carpet": [
           {
            "aaxis": {
             "endlinecolor": "rgb(51,51,51)",
             "gridcolor": "white",
             "linecolor": "white",
             "minorgridcolor": "white",
             "startlinecolor": "rgb(51,51,51)"
            },
            "baxis": {
             "endlinecolor": "rgb(51,51,51)",
             "gridcolor": "white",
             "linecolor": "white",
             "minorgridcolor": "white",
             "startlinecolor": "rgb(51,51,51)"
            },
            "type": "carpet"
           }
          ],
          "choropleth": [
           {
            "colorbar": {
             "outlinewidth": 0,
             "tickcolor": "rgb(237,237,237)",
             "ticklen": 6,
             "ticks": "inside"
            },
            "type": "choropleth"
           }
          ],
          "contour": [
           {
            "colorbar": {
             "outlinewidth": 0,
             "tickcolor": "rgb(237,237,237)",
             "ticklen": 6,
             "ticks": "inside"
            },
            "colorscale": [
             [
              0,
              "rgb(20,44,66)"
             ],
             [
              1,
              "rgb(90,179,244)"
             ]
            ],
            "type": "contour"
           }
          ],
          "contourcarpet": [
           {
            "colorbar": {
             "outlinewidth": 0,
             "tickcolor": "rgb(237,237,237)",
             "ticklen": 6,
             "ticks": "inside"
            },
            "type": "contourcarpet"
           }
          ],
          "heatmap": [
           {
            "colorbar": {
             "outlinewidth": 0,
             "tickcolor": "rgb(237,237,237)",
             "ticklen": 6,
             "ticks": "inside"
            },
            "colorscale": [
             [
              0,
              "rgb(20,44,66)"
             ],
             [
              1,
              "rgb(90,179,244)"
             ]
            ],
            "type": "heatmap"
           }
          ],
          "heatmapgl": [
           {
            "colorbar": {
             "outlinewidth": 0,
             "tickcolor": "rgb(237,237,237)",
             "ticklen": 6,
             "ticks": "inside"
            },
            "colorscale": [
             [
              0,
              "rgb(20,44,66)"
             ],
             [
              1,
              "rgb(90,179,244)"
             ]
            ],
            "type": "heatmapgl"
           }
          ],
          "histogram": [
           {
            "marker": {
             "pattern": {
              "fillmode": "overlay",
              "size": 10,
              "solidity": 0.2
             }
            },
            "type": "histogram"
           }
          ],
          "histogram2d": [
           {
            "colorbar": {
             "outlinewidth": 0,
             "tickcolor": "rgb(237,237,237)",
             "ticklen": 6,
             "ticks": "inside"
            },
            "colorscale": [
             [
              0,
              "rgb(20,44,66)"
             ],
             [
              1,
              "rgb(90,179,244)"
             ]
            ],
            "type": "histogram2d"
           }
          ],
          "histogram2dcontour": [
           {
            "colorbar": {
             "outlinewidth": 0,
             "tickcolor": "rgb(237,237,237)",
             "ticklen": 6,
             "ticks": "inside"
            },
            "colorscale": [
             [
              0,
              "rgb(20,44,66)"
             ],
             [
              1,
              "rgb(90,179,244)"
             ]
            ],
            "type": "histogram2dcontour"
           }
          ],
          "mesh3d": [
           {
            "colorbar": {
             "outlinewidth": 0,
             "tickcolor": "rgb(237,237,237)",
             "ticklen": 6,
             "ticks": "inside"
            },
            "type": "mesh3d"
           }
          ],
          "parcoords": [
           {
            "line": {
             "colorbar": {
              "outlinewidth": 0,
              "tickcolor": "rgb(237,237,237)",
              "ticklen": 6,
              "ticks": "inside"
             }
            },
            "type": "parcoords"
           }
          ],
          "pie": [
           {
            "automargin": true,
            "type": "pie"
           }
          ],
          "scatter": [
           {
            "marker": {
             "colorbar": {
              "outlinewidth": 0,
              "tickcolor": "rgb(237,237,237)",
              "ticklen": 6,
              "ticks": "inside"
             }
            },
            "type": "scatter"
           }
          ],
          "scatter3d": [
           {
            "line": {
             "colorbar": {
              "outlinewidth": 0,
              "tickcolor": "rgb(237,237,237)",
              "ticklen": 6,
              "ticks": "inside"
             }
            },
            "marker": {
             "colorbar": {
              "outlinewidth": 0,
              "tickcolor": "rgb(237,237,237)",
              "ticklen": 6,
              "ticks": "inside"
             }
            },
            "type": "scatter3d"
           }
          ],
          "scattercarpet": [
           {
            "marker": {
             "colorbar": {
              "outlinewidth": 0,
              "tickcolor": "rgb(237,237,237)",
              "ticklen": 6,
              "ticks": "inside"
             }
            },
            "type": "scattercarpet"
           }
          ],
          "scattergeo": [
           {
            "marker": {
             "colorbar": {
              "outlinewidth": 0,
              "tickcolor": "rgb(237,237,237)",
              "ticklen": 6,
              "ticks": "inside"
             }
            },
            "type": "scattergeo"
           }
          ],
          "scattergl": [
           {
            "marker": {
             "colorbar": {
              "outlinewidth": 0,
              "tickcolor": "rgb(237,237,237)",
              "ticklen": 6,
              "ticks": "inside"
             }
            },
            "type": "scattergl"
           }
          ],
          "scattermapbox": [
           {
            "marker": {
             "colorbar": {
              "outlinewidth": 0,
              "tickcolor": "rgb(237,237,237)",
              "ticklen": 6,
              "ticks": "inside"
             }
            },
            "type": "scattermapbox"
           }
          ],
          "scatterpolar": [
           {
            "marker": {
             "colorbar": {
              "outlinewidth": 0,
              "tickcolor": "rgb(237,237,237)",
              "ticklen": 6,
              "ticks": "inside"
             }
            },
            "type": "scatterpolar"
           }
          ],
          "scatterpolargl": [
           {
            "marker": {
             "colorbar": {
              "outlinewidth": 0,
              "tickcolor": "rgb(237,237,237)",
              "ticklen": 6,
              "ticks": "inside"
             }
            },
            "type": "scatterpolargl"
           }
          ],
          "scatterternary": [
           {
            "marker": {
             "colorbar": {
              "outlinewidth": 0,
              "tickcolor": "rgb(237,237,237)",
              "ticklen": 6,
              "ticks": "inside"
             }
            },
            "type": "scatterternary"
           }
          ],
          "surface": [
           {
            "colorbar": {
             "outlinewidth": 0,
             "tickcolor": "rgb(237,237,237)",
             "ticklen": 6,
             "ticks": "inside"
            },
            "colorscale": [
             [
              0,
              "rgb(20,44,66)"
             ],
             [
              1,
              "rgb(90,179,244)"
             ]
            ],
            "type": "surface"
           }
          ],
          "table": [
           {
            "cells": {
             "fill": {
              "color": "rgb(237,237,237)"
             },
             "line": {
              "color": "white"
             }
            },
            "header": {
             "fill": {
              "color": "rgb(217,217,217)"
             },
             "line": {
              "color": "white"
             }
            },
            "type": "table"
           }
          ]
         },
         "layout": {
          "annotationdefaults": {
           "arrowhead": 0,
           "arrowwidth": 1
          },
          "autotypenumbers": "strict",
          "coloraxis": {
           "colorbar": {
            "outlinewidth": 0,
            "tickcolor": "rgb(237,237,237)",
            "ticklen": 6,
            "ticks": "inside"
           }
          },
          "colorscale": {
           "sequential": [
            [
             0,
             "rgb(20,44,66)"
            ],
            [
             1,
             "rgb(90,179,244)"
            ]
           ],
           "sequentialminus": [
            [
             0,
             "rgb(20,44,66)"
            ],
            [
             1,
             "rgb(90,179,244)"
            ]
           ]
          },
          "colorway": [
           "#F8766D",
           "#A3A500",
           "#00BF7D",
           "#00B0F6",
           "#E76BF3"
          ],
          "font": {
           "color": "rgb(51,51,51)"
          },
          "geo": {
           "bgcolor": "white",
           "lakecolor": "white",
           "landcolor": "rgb(237,237,237)",
           "showlakes": true,
           "showland": true,
           "subunitcolor": "white"
          },
          "hoverlabel": {
           "align": "left"
          },
          "hovermode": "closest",
          "paper_bgcolor": "white",
          "plot_bgcolor": "rgb(237,237,237)",
          "polar": {
           "angularaxis": {
            "gridcolor": "white",
            "linecolor": "white",
            "showgrid": true,
            "tickcolor": "rgb(51,51,51)",
            "ticks": "outside"
           },
           "bgcolor": "rgb(237,237,237)",
           "radialaxis": {
            "gridcolor": "white",
            "linecolor": "white",
            "showgrid": true,
            "tickcolor": "rgb(51,51,51)",
            "ticks": "outside"
           }
          },
          "scene": {
           "xaxis": {
            "backgroundcolor": "rgb(237,237,237)",
            "gridcolor": "white",
            "gridwidth": 2,
            "linecolor": "white",
            "showbackground": true,
            "showgrid": true,
            "tickcolor": "rgb(51,51,51)",
            "ticks": "outside",
            "zerolinecolor": "white"
           },
           "yaxis": {
            "backgroundcolor": "rgb(237,237,237)",
            "gridcolor": "white",
            "gridwidth": 2,
            "linecolor": "white",
            "showbackground": true,
            "showgrid": true,
            "tickcolor": "rgb(51,51,51)",
            "ticks": "outside",
            "zerolinecolor": "white"
           },
           "zaxis": {
            "backgroundcolor": "rgb(237,237,237)",
            "gridcolor": "white",
            "gridwidth": 2,
            "linecolor": "white",
            "showbackground": true,
            "showgrid": true,
            "tickcolor": "rgb(51,51,51)",
            "ticks": "outside",
            "zerolinecolor": "white"
           }
          },
          "shapedefaults": {
           "fillcolor": "black",
           "line": {
            "width": 0
           },
           "opacity": 0.3
          },
          "ternary": {
           "aaxis": {
            "gridcolor": "white",
            "linecolor": "white",
            "showgrid": true,
            "tickcolor": "rgb(51,51,51)",
            "ticks": "outside"
           },
           "baxis": {
            "gridcolor": "white",
            "linecolor": "white",
            "showgrid": true,
            "tickcolor": "rgb(51,51,51)",
            "ticks": "outside"
           },
           "bgcolor": "rgb(237,237,237)",
           "caxis": {
            "gridcolor": "white",
            "linecolor": "white",
            "showgrid": true,
            "tickcolor": "rgb(51,51,51)",
            "ticks": "outside"
           }
          },
          "xaxis": {
           "automargin": true,
           "gridcolor": "white",
           "linecolor": "white",
           "showgrid": true,
           "tickcolor": "rgb(51,51,51)",
           "ticks": "outside",
           "title": {
            "standoff": 15
           },
           "zerolinecolor": "white"
          },
          "yaxis": {
           "automargin": true,
           "gridcolor": "white",
           "linecolor": "white",
           "showgrid": true,
           "tickcolor": "rgb(51,51,51)",
           "ticks": "outside",
           "title": {
            "standoff": 15
           },
           "zerolinecolor": "white"
          }
         }
        },
        "title": {
         "text": "Top 10 cities with most layoffs"
        },
        "xaxis": {
         "anchor": "y",
         "domain": [
          0,
          1
         ],
         "title": {
          "text": "Number of people laid off"
         }
        },
        "yaxis": {
         "anchor": "x",
         "domain": [
          0,
          1
         ],
         "title": {
          "text": "City"
         }
        }
       }
      }
     },
     "metadata": {},
     "output_type": "display_data"
    }
   ],
   "source": [
    "# bar plot 3\n",
    "\n",
    "lokasi = pd.pivot_table(df, \n",
    "                            index='location', \n",
    "                            values='total_laid_off', \n",
    "                            aggfunc='sum').sort_values('total_laid_off',ascending=False).reset_index().head(10)\n",
    "bar_3 = px.bar(lokasi.sort_values('total_laid_off', ascending=True), \n",
    "       x='total_laid_off', \n",
    "       y='location',\n",
    "      title='Top 10 cities with most layoffs',\n",
    "      template='ggplot2',\n",
    "      labels= {'location': 'City', 'total_laid_off':'Number of people laid off'})"
   ]
  },
  {
   "cell_type": "code",
   "execution_count": 44,
   "id": "8699c668",
   "metadata": {},
   "outputs": [
    {
     "name": "stderr",
     "output_type": "stream",
     "text": [
      "c:\\Users\\edgar.manzo\\Anaconda3\\envs\\smm_dadp\\lib\\site-packages\\pandas\\core\\arraylike.py:402: RuntimeWarning:\n",
      "\n",
      "divide by zero encountered in log\n",
      "\n",
      "C:\\Users\\edgar.manzo\\AppData\\Local\\Temp\\ipykernel_23344\\791799205.py:3: SettingWithCopyWarning:\n",
      "\n",
      "\n",
      "A value is trying to be set on a copy of a slice from a DataFrame.\n",
      "Try using .loc[row_indexer,col_indexer] = value instead\n",
      "\n",
      "See the caveats in the documentation: https://pandas.pydata.org/pandas-docs/stable/user_guide/indexing.html#returning-a-view-versus-a-copy\n",
      "\n"
     ]
    },
    {
     "data": {
      "text/html": [
       "<div>\n",
       "<style scoped>\n",
       "    .dataframe tbody tr th:only-of-type {\n",
       "        vertical-align: middle;\n",
       "    }\n",
       "\n",
       "    .dataframe tbody tr th {\n",
       "        vertical-align: top;\n",
       "    }\n",
       "\n",
       "    .dataframe thead th {\n",
       "        text-align: right;\n",
       "    }\n",
       "</style>\n",
       "<table border=\"1\" class=\"dataframe\">\n",
       "  <thead>\n",
       "    <tr style=\"text-align: right;\">\n",
       "      <th></th>\n",
       "      <th>total_laid_off</th>\n",
       "      <th>funds_raised</th>\n",
       "      <th>log_funds</th>\n",
       "    </tr>\n",
       "  </thead>\n",
       "  <tbody>\n",
       "    <tr>\n",
       "      <th>total_laid_off</th>\n",
       "      <td>1.000000</td>\n",
       "      <td>0.121606</td>\n",
       "      <td>0.230865</td>\n",
       "    </tr>\n",
       "    <tr>\n",
       "      <th>funds_raised</th>\n",
       "      <td>0.121606</td>\n",
       "      <td>1.000000</td>\n",
       "      <td>0.341562</td>\n",
       "    </tr>\n",
       "    <tr>\n",
       "      <th>log_funds</th>\n",
       "      <td>0.230865</td>\n",
       "      <td>0.341562</td>\n",
       "      <td>1.000000</td>\n",
       "    </tr>\n",
       "  </tbody>\n",
       "</table>\n",
       "</div>"
      ],
      "text/plain": [
       "                total_laid_off  funds_raised  log_funds\n",
       "total_laid_off        1.000000      0.121606   0.230865\n",
       "funds_raised          0.121606      1.000000   0.341562\n",
       "log_funds             0.230865      0.341562   1.000000"
      ]
     },
     "execution_count": 44,
     "metadata": {},
     "output_type": "execute_result"
    }
   ],
   "source": [
    "import numpy as np\n",
    "tes = df[['total_laid_off', 'funds_raised']]\n",
    "tes['log_funds'] = np.log(df['funds_raised'])\n",
    "\n",
    "tes.corr()"
   ]
  },
  {
   "cell_type": "code",
   "execution_count": null,
   "id": "8ec13a46",
   "metadata": {},
   "outputs": [],
   "source": [
    "# your code here\n",
    "# Praqualifikasi Vendor\n",
    "\n",
    "agg_vendor_PraQ = pd.crosstab(\n",
    "    index=iss['prakualifikasi'],\n",
    "    columns='jumlah vendor'\n",
    ").reset_index().sort_values(by = 'jumlah vendor', ascending = True)\n",
    "\n",
    "agg_vendor_PraQ[\"all\"] = \"Prakualifikasi Vendor\" # in order to have a single root node\n",
    "fig = px.treemap(\n",
    "    agg_vendor_PraQ, \n",
    "    path=['all', 'prakualifikasi'], \n",
    "    values='jumlah vendor',\n",
    "    color_discrete_sequence =['#ff6600','salmon','#ff3333' ,'#ff9966']*len(agg_vendor_PraQ),\n",
    "    )\n",
    "\n",
    "fig.update_traces(\n",
    "    root_color=\"lightgrey\",\n",
    "    hovertemplate='<b> %{label} </b> <br> Total Vendor: %{value}'\n",
    "    )\n",
    "fig.update_layout(margin = dict(t=50, l=25, r=25, b=25))\n",
    "fig.show()\n"
   ]
  }
 ],
 "metadata": {
  "kernelspec": {
   "display_name": "smm_dadp",
   "language": "python",
   "name": "smm_dadp"
  },
  "language_info": {
   "codemirror_mode": {
    "name": "ipython",
    "version": 3
   },
   "file_extension": ".py",
   "mimetype": "text/x-python",
   "name": "python",
   "nbconvert_exporter": "python",
   "pygments_lexer": "ipython3",
   "version": "3.9.13"
  }
 },
 "nbformat": 4,
 "nbformat_minor": 5
}
